{
 "cells": [
  {
   "cell_type": "markdown",
   "metadata": {
    "collapsed": true
   },
   "source": [
    "# Image Classification\n",
    "In this project, you'll classify images from the [CIFAR-10 dataset](https://www.cs.toronto.edu/~kriz/cifar.html).  The dataset consists of airplanes, dogs, cats, and other objects. You'll preprocess the images, then train a convolutional neural network on all the samples. The images need to be normalized and the labels need to be one-hot encoded.  You'll get to apply what you learned and build a convolutional, max pooling, dropout, and fully connected layers.  At the end, you'll get to see your neural network's predictions on the sample images.\n",
    "## Get the Data\n",
    "Run the following cell to download the [CIFAR-10 dataset for python](https://www.cs.toronto.edu/~kriz/cifar-10-python.tar.gz)."
   ]
  },
  {
   "cell_type": "code",
   "execution_count": null,
   "metadata": {},
   "outputs": [
    {
     "name": "stderr",
     "output_type": "stream",
     "text": [
      "CIFAR-10 Dataset:  76%|████████████████████████████████████████████████████████████████████████████████████████████████████████████████████████████████████████                                           | 128M/169M [09:27<02:56, 230KB/s]"
     ]
    }
   ],
   "source": [
    "\"\"\"\n",
    "DON'T MODIFY ANYTHING IN THIS CELL THAT IS BELOW THIS LINE\n",
    "\"\"\"\n",
    "from urllib.request import urlretrieve\n",
    "from os.path import isfile, isdir\n",
    "from tqdm import tqdm\n",
    "import problem_unittests as tests\n",
    "import tarfile\n",
    "\n",
    "cifar10_dataset_folder_path = 'cifar-10-batches-py'\n",
    "cifar100_dataset_folder_path = 'cifar-100-python'\n",
    "\n",
    "# Use Floyd's cifar-10 dataset if present\n",
    "floyd_cifar10_location = '/input/cifar-10/python.tar.gz'\n",
    "floyd_cifar100_location = '/input/cifar-100/python.tar.gz'\n",
    "if isfile(floyd_cifar100_location):\n",
    "    tar_gz_path = floyd_cifar10_location\n",
    "else:\n",
    "    tar_gz_path = 'cifar-100-python.tar.gz'\n",
    "\n",
    "class DLProgress(tqdm):\n",
    "    last_block = 0\n",
    "\n",
    "    def hook(self, block_num=1, block_size=1, total_size=None):\n",
    "        self.total = total_size\n",
    "        self.update((block_num - self.last_block) * block_size)\n",
    "        self.last_block = block_num\n",
    "\n",
    "if not isfile(tar_gz_path):\n",
    "    with DLProgress(unit='B', unit_scale=True, miniters=1, desc='CIFAR-10 Dataset') as pbar:\n",
    "        urlretrieve(\n",
    "            'https://www.cs.toronto.edu/~kriz/cifar-100-python.tar.gz',\n",
    "            tar_gz_path,\n",
    "            pbar.hook)\n",
    "\n",
    "if not isdir(cifar100_dataset_folder_path):\n",
    "    with tarfile.open(tar_gz_path) as tar:\n",
    "        tar.extractall()\n",
    "        tar.close()\n",
    "print(cifar100_dataset_folder_path)\n",
    "test_for_10 = False\n",
    "tests.test_folder_path_100(cifar100_dataset_folder_path)"
   ]
  },
  {
   "cell_type": "markdown",
   "metadata": {},
   "source": [
    "## Explore the Data\n",
    "The dataset is broken into batches to prevent your machine from running out of memory.  The CIFAR-10 dataset consists of 5 batches, named `data_batch_1`, `data_batch_2`, etc.. Each batch contains the labels and images that are one of the following:\n",
    "* airplane\n",
    "* automobile\n",
    "* bird\n",
    "* cat\n",
    "* deer\n",
    "* dog\n",
    "* frog\n",
    "* horse\n",
    "* ship\n",
    "* truck\n",
    "\n",
    "Understanding a dataset is part of making predictions on the data.  Play around with the code cell below by changing the `batch_id` and `sample_id`. The `batch_id` is the id for a batch (1-5). The `sample_id` is the id for a image and label pair in the batch.\n",
    "\n",
    "Ask yourself \"What are all possible labels?\", \"What is the range of values for the image data?\", \"Are the labels in order or random?\".  Answers to questions like these will help you preprocess the data and end up with better predictions."
   ]
  },
  {
   "cell_type": "code",
   "execution_count": 2,
   "metadata": {
    "scrolled": false
   },
   "outputs": [
    {
     "name": "stdout",
     "output_type": "stream",
     "text": [
      "x\n",
      "\n",
      "Stats of batch 5:\n",
      "Samples: 50000\n",
      "Label Counts: {0: 500, 1: 500, 2: 500, 3: 500, 4: 500, 5: 500, 6: 500, 7: 500, 8: 500, 9: 500, 10: 500, 11: 500, 12: 500, 13: 500, 14: 500, 15: 500, 16: 500, 17: 500, 18: 500, 19: 500, 20: 500, 21: 500, 22: 500, 23: 500, 24: 500, 25: 500, 26: 500, 27: 500, 28: 500, 29: 500, 30: 500, 31: 500, 32: 500, 33: 500, 34: 500, 35: 500, 36: 500, 37: 500, 38: 500, 39: 500, 40: 500, 41: 500, 42: 500, 43: 500, 44: 500, 45: 500, 46: 500, 47: 500, 48: 500, 49: 500, 50: 500, 51: 500, 52: 500, 53: 500, 54: 500, 55: 500, 56: 500, 57: 500, 58: 500, 59: 500, 60: 500, 61: 500, 62: 500, 63: 500, 64: 500, 65: 500, 66: 500, 67: 500, 68: 500, 69: 500, 70: 500, 71: 500, 72: 500, 73: 500, 74: 500, 75: 500, 76: 500, 77: 500, 78: 500, 79: 500, 80: 500, 81: 500, 82: 500, 83: 500, 84: 500, 85: 500, 86: 500, 87: 500, 88: 500, 89: 500, 90: 500, 91: 500, 92: 500, 93: 500, 94: 500, 95: 500, 96: 500, 97: 500, 98: 500, 99: 500}\n",
      "First 20 Labels: [19, 29, 0, 11, 1, 86, 90, 28, 23, 31, 39, 96, 82, 17, 71, 39, 8, 97, 80, 71]\n",
      "sample label 42\n",
      "\n",
      "Example of Image 5000:\n",
      "Image - Min Value: 32 Max Value: 196\n",
      "Image - Shape: (32, 32, 3)\n",
      "Label - Label Id: 42 Name:  lion\n"
     ]
    },
    {
     "data": {
      "image/png": "[encoded data removed]",
      "text/plain": [
       "<matplotlib.figure.Figure at 0x197c4bd9198>"
      ]
     },
     "metadata": {
      "image/png": {
       "height": 250,
       "width": 253
      }
     },
     "output_type": "display_data"
    }
   ],
   "source": [
    "%matplotlib inline\n",
    "%config InlineBackend.figure_format = 'retina'\n",
    "\n",
    "#cifar10_dataset_folder_path = 'cifar-10-batches-py'\n",
    "import helper\n",
    "import numpy as np\n",
    "\n",
    "# Explore the dataset\n",
    "batch_id = 5\n",
    "sample_id = 5000\n",
    "helper.display_stats(cifar100_dataset_folder_path, batch_id, sample_id)"
   ]
  },
  {
   "cell_type": "code",
   "execution_count": 3,
   "metadata": {
    "collapsed": true
   },
   "outputs": [],
   "source": [
    "#  import pickle\n",
    "# # with open(cifar100_dataset_folder_path+\"/meta\", 'rb') as fo:\n",
    "# #     dict = pickle.load(fo, encoding='latin')\n",
    "# # print(dict['fine_label_names'])\n",
    "# with open(cifar100_dataset_folder_path + '/train', mode='rb') as file:\n",
    "#         batch = pickle.load(file, encoding='latin1')\n",
    "\n",
    "# features = batch['data'].reshape((len(batch['data']), 3, 32, 32)).transpose(0, 2, 3, 1)\n",
    "# print(len(batch['fine_labels']))\n",
    "# #print(batch)\n",
    "# #print(batch)"
   ]
  },
  {
   "cell_type": "code",
   "execution_count": 4,
   "metadata": {
    "collapsed": true
   },
   "outputs": [],
   "source": [
    "# # print(len(dict[b'fine_labels']))\n",
    "# import pickle\n",
    "# with open(cifar100_dataset_folder_path+\"/meta\", 'rb') as fo:\n",
    "#     dict = pickle.load(fo, encoding='latin')\n",
    "# print(dict['fine_label_names'])"
   ]
  },
  {
   "cell_type": "markdown",
   "metadata": {},
   "source": [
    "## Implement Preprocess Functions\n",
    "### Normalize\n",
    "In the cell below, implement the `normalize` function to take in image data, `x`, and return it as a normalized Numpy array. The values should be in the range of 0 to 1, inclusive.  The return object should be the same shape as `x`."
   ]
  },
  {
   "cell_type": "code",
   "execution_count": 5,
   "metadata": {},
   "outputs": [
    {
     "name": "stdout",
     "output_type": "stream",
     "text": [
      "Tests Passed\n"
     ]
    }
   ],
   "source": [
    "def normalize(x):\n",
    "    \"\"\"\n",
    "    Normalize a list of sample image data in the range of 0 to 1\n",
    "    : x: List of image data.  The image shape is (32, 32, 3)\n",
    "    : return: Numpy array of normalize data\n",
    "    \"\"\"\n",
    "    # TODO: Implement Function\n",
    "    #x = np.divide(x,np.max(x, axis=0))\n",
    "    return x/np.max(x, axis=0)\n",
    "\n",
    "\n",
    "\"\"\"\n",
    "DON'T MODIFY ANYTHING IN THIS CELL THAT IS BELOW THIS LINE\n",
    "\"\"\"\n",
    "tests.test_normalize(normalize)"
   ]
  },
  {
   "cell_type": "markdown",
   "metadata": {},
   "source": [
    "### One-hot encode\n",
    "Just like the previous code cell, you'll be implementing a function for preprocessing.  This time, you'll implement the `one_hot_encode` function. The input, `x`, are a list of labels.  Implement the function to return the list of labels as One-Hot encoded Numpy array.  The possible values for labels are 0 to 9. The one-hot encoding function should return the same encoding for each value between each call to `one_hot_encode`.  Make sure to save the map of encodings outside the function.\n",
    "\n",
    "Hint: Don't reinvent the wheel."
   ]
  },
  {
   "cell_type": "code",
   "execution_count": 6,
   "metadata": {
    "collapsed": true
   },
   "outputs": [],
   "source": [
    "from sklearn.preprocessing import OneHotEncoder\n",
    "test_for_10 = True"
   ]
  },
  {
   "cell_type": "code",
   "execution_count": 7,
   "metadata": {},
   "outputs": [
    {
     "name": "stdout",
     "output_type": "stream",
     "text": [
      "Tests Passed\n"
     ]
    }
   ],
   "source": [
    "def one_hot_encode(x):\n",
    "    \"\"\"\n",
    "    One hot encode a list of sample labels. Return a one-hot encoded vector for each label.\n",
    "    : x: List of sample Labels\n",
    "    : return: Numpy array of one-hot encoded labels\n",
    "    \"\"\"\n",
    "    # TODO: Implement Function\n",
    "    #print(x)\n",
    "    oneHot = None\n",
    "    if test_for_10:\n",
    "        oneHot = np.zeros((len(x), 10))\n",
    "    else:\n",
    "        oneHot = np.zeros((len(x), 1000))\n",
    "    for idx, v in enumerate(x):\n",
    "        oneHot[idx][v] = 1\n",
    "    return oneHot\n",
    "\n",
    "\n",
    "\"\"\"\n",
    "DON'T MODIFY ANYTHING IN THIS CELL THAT IS BELOW THIS LINE\n",
    "\"\"\"\n",
    "tests.test_one_hot_encode(one_hot_encode)"
   ]
  },
  {
   "cell_type": "markdown",
   "metadata": {},
   "source": [
    "### Randomize Data\n",
    "As you saw from exploring the data above, the order of the samples are randomized.  It doesn't hurt to randomize it again, but you don't need to for this dataset."
   ]
  },
  {
   "cell_type": "markdown",
   "metadata": {},
   "source": [
    "## Preprocess all the data and save it\n",
    "Running the code cell below will preprocess all the CIFAR-10 data and save it to file. The code below also uses 10% of the training data for validation."
   ]
  },
  {
   "cell_type": "code",
   "execution_count": 9,
   "metadata": {},
   "outputs": [
    {
     "ename": "NameError",
     "evalue": "name 'cifar100_dataset_folder_path' is not defined",
     "output_type": "error",
     "traceback": [
      "\u001b[1;31m---------------------------------------------------------------------------\u001b[0m",
      "\u001b[1;31mNameError\u001b[0m                                 Traceback (most recent call last)",
      "\u001b[1;32m<ipython-input-9-fe831c32a1a2>\u001b[0m in \u001b[0;36m<module>\u001b[1;34m()\u001b[0m\n\u001b[0;32m      4\u001b[0m \u001b[1;31m# Preprocess Training, Validation, and Testing Data\u001b[0m\u001b[1;33m\u001b[0m\u001b[1;33m\u001b[0m\u001b[0m\n\u001b[0;32m      5\u001b[0m \u001b[0mtest_for_10\u001b[0m \u001b[1;33m=\u001b[0m \u001b[1;32mTrue\u001b[0m\u001b[1;33m;\u001b[0m\u001b[1;33m\u001b[0m\u001b[0m\n\u001b[1;32m----> 6\u001b[1;33m \u001b[0mhelper\u001b[0m\u001b[1;33m.\u001b[0m\u001b[0mpreprocess_and_save_data\u001b[0m\u001b[1;33m(\u001b[0m\u001b[0mcifar100_dataset_folder_path\u001b[0m\u001b[1;33m,\u001b[0m \u001b[0mnormalize\u001b[0m\u001b[1;33m,\u001b[0m \u001b[0mone_hot_encode\u001b[0m\u001b[1;33m)\u001b[0m\u001b[1;33m\u001b[0m\u001b[0m\n\u001b[0m",
      "\u001b[1;31mNameError\u001b[0m: name 'cifar100_dataset_folder_path' is not defined"
     ]
    }
   ],
   "source": [
    "\"\"\"\n",
    "DON'T MODIFY ANYTHING IN THIS CELL\n",
    "\"\"\"\n",
    "# Preprocess Training, Validation, and Testing Data\n",
    "test_for_10 = False;\n",
    "helper.preprocess_and_save_data(cifar100_dataset_folder_path, normalize, one_hot_encode)"
   ]
  },
  {
   "cell_type": "markdown",
   "metadata": {},
   "source": [
    "# Check Point\n",
    "This is your first checkpoint.  If you ever decide to come back to this notebook or have to restart the notebook, you can start from here.  The preprocessed data has been saved to disk."
   ]
  },
  {
   "cell_type": "code",
   "execution_count": 10,
   "metadata": {
    "collapsed": true
   },
   "outputs": [],
   "source": [
    "\"\"\"\n",
    "DON'T MODIFY ANYTHING IN THIS CELL\n",
    "\"\"\"\n",
    "import pickle\n",
    "import problem_unittests as tests\n",
    "import helper\n",
    "\n",
    "# Load the Preprocessed Validation data\n",
    "valid_features, valid_labels = pickle.load(open('preprocess_validation_100.p', mode='rb'))\n",
    "test_for_10 = True"
   ]
  },
  {
   "cell_type": "markdown",
   "metadata": {},
   "source": [
    "## Build the network\n",
    "For the neural network, you'll build each layer into a function.  Most of the code you've seen has been outside of functions. To test your code more thoroughly, we require that you put each layer in a function.  This allows us to give you better feedback and test for simple mistakes using our unittests before you submit your project.\n",
    "\n",
    ">**Note:** If you're finding it hard to dedicate enough time for this course each week, we've provided a small shortcut to this part of the project. In the next couple of problems, you'll have the option to use classes from the [TensorFlow Layers](https://www.tensorflow.org/api_docs/python/tf/layers) or [TensorFlow Layers (contrib)](https://www.tensorflow.org/api_guides/python/contrib.layers) packages to build each layer, except the layers you build in the \"Convolutional and Max Pooling Layer\" section.  TF Layers is similar to Keras's and TFLearn's abstraction to layers, so it's easy to pickup.\n",
    "\n",
    ">However, if you would like to get the most out of this course, try to solve all the problems _without_ using anything from the TF Layers packages. You **can** still use classes from other packages that happen to have the same name as ones you find in TF Layers! For example, instead of using the TF Layers version of the `conv2d` class, [tf.layers.conv2d](https://www.tensorflow.org/api_docs/python/tf/layers/conv2d), you would want to use the TF Neural Network version of `conv2d`, [tf.nn.conv2d](https://www.tensorflow.org/api_docs/python/tf/nn/conv2d). \n",
    "\n",
    "Let's begin!\n",
    "\n",
    "### Input\n",
    "The neural network needs to read the image data, one-hot encoded labels, and dropout keep probability. Implement the following functions\n",
    "* Implement `neural_net_image_input`\n",
    " * Return a [TF Placeholder](https://www.tensorflow.org/api_docs/python/tf/placeholder)\n",
    " * Set the shape using `image_shape` with batch size set to `None`.\n",
    " * Name the TensorFlow placeholder \"x\" using the TensorFlow `name` parameter in the [TF Placeholder](https://www.tensorflow.org/api_docs/python/tf/placeholder).\n",
    "* Implement `neural_net_label_input`\n",
    " * Return a [TF Placeholder](https://www.tensorflow.org/api_docs/python/tf/placeholder)\n",
    " * Set the shape using `n_classes` with batch size set to `None`.\n",
    " * Name the TensorFlow placeholder \"y\" using the TensorFlow `name` parameter in the [TF Placeholder](https://www.tensorflow.org/api_docs/python/tf/placeholder).\n",
    "* Implement `neural_net_keep_prob_input`\n",
    " * Return a [TF Placeholder](https://www.tensorflow.org/api_docs/python/tf/placeholder) for dropout keep probability.\n",
    " * Name the TensorFlow placeholder \"keep_prob\" using the TensorFlow `name` parameter in the [TF Placeholder](https://www.tensorflow.org/api_docs/python/tf/placeholder).\n",
    "\n",
    "These names will be used at the end of the project to load your saved model.\n",
    "\n",
    "Note: `None` for shapes in TensorFlow allow for a dynamic size."
   ]
  },
  {
   "cell_type": "code",
   "execution_count": 11,
   "metadata": {
    "collapsed": true
   },
   "outputs": [],
   "source": [
    "import tensorflow as tf"
   ]
  },
  {
   "cell_type": "code",
   "execution_count": 12,
   "metadata": {},
   "outputs": [
    {
     "name": "stdout",
     "output_type": "stream",
     "text": [
      "(32, 32, 3)\n",
      "Image Input Tests Passed.\n",
      "Label Input Tests Passed.\n",
      "Keep Prob Tests Passed.\n"
     ]
    }
   ],
   "source": [
    "\n",
    "def neural_net_image_input(image_shape):\n",
    "    \"\"\"\n",
    "    Return a Tensor for a batch of image input\n",
    "    : image_shape: Shape of the images\n",
    "    : return: Tensor for image input.\n",
    "    \"\"\"\n",
    "    # TODO: Implement Function\n",
    "    print(image_shape)\n",
    "    return tf.placeholder(tf.float32, shape=[None, image_shape[0], image_shape[1], image_shape[2]], name='x')\n",
    "\n",
    "\n",
    "def neural_net_label_input(n_classes):\n",
    "    \"\"\"\n",
    "    Return a Tensor for a batch of label input\n",
    "    : n_classes: Number of classes\n",
    "    : return: Tensor for label input.\n",
    "    \"\"\"\n",
    "    # TODO: Implement Function\n",
    "    return tf.placeholder(tf.float32, shape=[None, n_classes], name='y')\n",
    "\n",
    "\n",
    "def neural_net_keep_prob_input():\n",
    "    \"\"\"\n",
    "    Return a Tensor for keep probability\n",
    "    : return: Tensor for keep probability.\n",
    "    \"\"\"\n",
    "    # TODO: Implement Function\n",
    "    return tf.placeholder(tf.float32, name='keep_prob')\n",
    "\n",
    "\n",
    "\"\"\"\n",
    "DON'T MODIFY ANYTHING IN THIS CELL THAT IS BELOW THIS LINE\n",
    "\"\"\"\n",
    "tf.reset_default_graph()\n",
    "tests.test_nn_image_inputs(neural_net_image_input)\n",
    "tests.test_nn_label_inputs(neural_net_label_input)\n",
    "tests.test_nn_keep_prob_inputs(neural_net_keep_prob_input)"
   ]
  },
  {
   "cell_type": "markdown",
   "metadata": {},
   "source": [
    "### Convolution and Max Pooling Layer\n",
    "Convolution layers have a lot of success with images. For this code cell, you should implement the function `conv2d_maxpool` to apply convolution then max pooling:\n",
    "* Create the weight and bias using `conv_ksize`, `conv_num_outputs` and the shape of `x_tensor`.\n",
    "* Apply a convolution to `x_tensor` using weight and `conv_strides`.\n",
    " * We recommend you use same padding, but you're welcome to use any padding.\n",
    "* Add bias\n",
    "* Add a nonlinear activation to the convolution.\n",
    "* Apply Max Pooling using `pool_ksize` and `pool_strides`.\n",
    " * We recommend you use same padding, but you're welcome to use any padding.\n",
    "\n",
    "**Note:** You **can't** use [TensorFlow Layers](https://www.tensorflow.org/api_docs/python/tf/layers) or [TensorFlow Layers (contrib)](https://www.tensorflow.org/api_guides/python/contrib.layers) for **this** layer, but you can still use TensorFlow's [Neural Network](https://www.tensorflow.org/api_docs/python/tf/nn) package. You may still use the shortcut option for all the **other** layers."
   ]
  },
  {
   "cell_type": "code",
   "execution_count": 13,
   "metadata": {},
   "outputs": [
    {
     "name": "stdout",
     "output_type": "stream",
     "text": [
      "x_tensor shape: (?, 32, 32, 5) conv_num_outpus: 10 conv_ksize: (2, 2)            conv_strides: (4, 4) pool_ksize: (2, 2) pool_strides: (2, 2)\n",
      "shape:  [2, 2, 5, 10]\n",
      "Tests Passed\n"
     ]
    }
   ],
   "source": [
    "def conv2d_maxpool(x_tensor, conv_num_outputs, conv_ksize, conv_strides, pool_ksize, pool_strides):\n",
    "    \"\"\"\n",
    "    Apply convolution then max pooling to x_tensor\n",
    "    :param x_tensor: TensorFlow Tensor\n",
    "    :param conv_num_outputs: Number of outputs for the convolutional layer\n",
    "    :param conv_ksize: kernal size 2-D Tuple for the convolutional layer\n",
    "    :param conv_strides: Stride 2-D Tuple for convolution\n",
    "    :param pool_ksize: kernal size 2-D Tuple for pool\n",
    "    :param pool_strides: Stride 2-D Tuple for pool\n",
    "    : return: A tensor that represents convolution and max pooling of x_tensor\n",
    "    \"\"\"\n",
    "    # TODO: Implement Function\n",
    "    #shape = [filter_size, filter_size, num_input_channels, num_filters]\n",
    "    \n",
    "    num_input_channels = x_tensor.shape.as_list()[3]\n",
    "    num_filters = conv_num_outputs\n",
    "    print(\"x_tensor shape: {} conv_num_outpus: {} conv_ksize: {}\\\n",
    "            conv_strides: {} pool_ksize: {} pool_strides: {}\".format(x_tensor.shape, conv_num_outputs,\n",
    "                                                                      conv_ksize, conv_strides, pool_ksize, pool_strides)) \n",
    "    \n",
    "    shape = [conv_ksize[0], conv_ksize[1], num_input_channels, num_filters]\n",
    "    print(\"shape: \",shape)\n",
    "    weight = tf.Variable(tf.truncated_normal(shape, mean=0, stddev=0.08))\n",
    "    bias = tf.Variable(tf.constant(0.05, shape=[num_filters]))\n",
    "    #bias = tf.Variable(tf.zeros(num_filters))\n",
    "    conv = tf.nn.conv2d(x_tensor, weight, strides=[1,conv_strides[0], conv_strides[1],1], padding='SAME')\n",
    "    conv = tf.nn.bias_add(conv, bias)\n",
    "    conv = tf.nn.relu(conv)\n",
    "    return tf.nn.max_pool(conv, ksize=[1,pool_ksize[0],pool_ksize[1],1], \n",
    "                  strides=[1,pool_strides[0], pool_strides[1], 1],\n",
    "                  padding='SAME')\n",
    "\n",
    "\n",
    "\"\"\"\n",
    "DON'T MODIFY ANYTHING IN THIS CELL THAT IS BELOW THIS LINE\n",
    "\"\"\"\n",
    "tests.test_con_pool(conv2d_maxpool)"
   ]
  },
  {
   "cell_type": "markdown",
   "metadata": {},
   "source": [
    "### Flatten Layer\n",
    "Implement the `flatten` function to change the dimension of `x_tensor` from a 4-D tensor to a 2-D tensor.  The output should be the shape (*Batch Size*, *Flattened Image Size*). Shortcut option: you can use classes from the [TensorFlow Layers](https://www.tensorflow.org/api_docs/python/tf/layers) or [TensorFlow Layers (contrib)](https://www.tensorflow.org/api_guides/python/contrib.layers) packages for this layer. For more of a challenge, only use other TensorFlow packages."
   ]
  },
  {
   "cell_type": "code",
   "execution_count": 14,
   "metadata": {},
   "outputs": [
    {
     "name": "stdout",
     "output_type": "stream",
     "text": [
      "shape: (?, 10, 30, 6) num_feautres: 1800\n",
      "Tests Passed\n"
     ]
    }
   ],
   "source": [
    "def flatten(x_tensor):\n",
    "    \"\"\"\n",
    "    Flatten x_tensor to (Batch Size, Flattened Image Size)\n",
    "    : x_tensor: A tensor of size (Batch Size, ...), where ... are the image dimensions.\n",
    "    : return: A tensor of size (Batch Size, Flattened Image Size).\n",
    "    \"\"\"\n",
    "    # TODO: Implement Function\n",
    "    #print(x_tensor)\n",
    "    shape = x_tensor.get_shape()\n",
    "    num_features = shape[1:4].num_elements()\n",
    "    layer_flat = tf.reshape(x_tensor, [-1, num_features])\n",
    "    print(\"shape: {} num_feautres: {}\".format(shape, layer_flat.get_shape().as_list()[1]))\n",
    "    return layer_flat\n",
    "\n",
    "\n",
    "\"\"\"\n",
    "DON'T MODIFY ANYTHING IN THIS CELL THAT IS BELOW THIS LINE\n",
    "\"\"\"\n",
    "tests.test_flatten(flatten)"
   ]
  },
  {
   "cell_type": "markdown",
   "metadata": {},
   "source": [
    "### Fully-Connected Layer\n",
    "Implement the `fully_conn` function to apply a fully connected layer to `x_tensor` with the shape (*Batch Size*, *num_outputs*). Shortcut option: you can use classes from the [TensorFlow Layers](https://www.tensorflow.org/api_docs/python/tf/layers) or [TensorFlow Layers (contrib)](https://www.tensorflow.org/api_guides/python/contrib.layers) packages for this layer. For more of a challenge, only use other TensorFlow packages."
   ]
  },
  {
   "cell_type": "code",
   "execution_count": 15,
   "metadata": {},
   "outputs": [
    {
     "name": "stdout",
     "output_type": "stream",
     "text": [
      "(?, 128)\n",
      "Tests Passed\n"
     ]
    }
   ],
   "source": [
    "def fully_conn(x_tensor, num_outputs):\n",
    "    \"\"\"\n",
    "    Apply a fully connected layer to x_tensor using weight and bias\n",
    "    : x_tensor: A 2-D tensor where the first dimension is batch size.\n",
    "    : num_outputs: The number of output that the new tensor should be.\n",
    "    : return: A 2-D tensor where the second dimension is num_outputs.\n",
    "    \"\"\"\n",
    "    # TODO: Implement Function\n",
    "    print(x_tensor.get_shape())\n",
    "    weights = tf.Variable(tf.truncated_normal([x_tensor.get_shape().as_list()[1], num_outputs], mean=0.0, stddev=0.08))\n",
    "    bias = tf.Variable(tf.constant(0.05, shape=[num_outputs]))\n",
    "    #bias = tf.Variable(tf.zeros(num_outputs))\n",
    "    tf.Variable(tf.zeros(num_outputs))\n",
    "    fc = tf.matmul(x_tensor, weights) + bias\n",
    "    return tf.nn.relu(fc)\n",
    "\n",
    "\n",
    "\"\"\"\n",
    "DON'T MODIFY ANYTHING IN THIS CELL THAT IS BELOW THIS LINE\n",
    "\"\"\"\n",
    "tests.test_fully_conn(fully_conn)"
   ]
  },
  {
   "cell_type": "markdown",
   "metadata": {},
   "source": [
    "### Output Layer\n",
    "Implement the `output` function to apply a fully connected layer to `x_tensor` with the shape (*Batch Size*, *num_outputs*). Shortcut option: you can use classes from the [TensorFlow Layers](https://www.tensorflow.org/api_docs/python/tf/layers) or [TensorFlow Layers (contrib)](https://www.tensorflow.org/api_guides/python/contrib.layers) packages for this layer. For more of a challenge, only use other TensorFlow packages.\n",
    "\n",
    "**Note:** Activation, softmax, or cross entropy should **not** be applied to this."
   ]
  },
  {
   "cell_type": "code",
   "execution_count": 16,
   "metadata": {},
   "outputs": [
    {
     "name": "stdout",
     "output_type": "stream",
     "text": [
      "Tests Passed\n"
     ]
    }
   ],
   "source": [
    "def output(x_tensor, num_outputs):\n",
    "    \"\"\"\n",
    "    Apply a output layer to x_tensor using weight and bias\n",
    "    : x_tensor: A 2-D tensor where the first dimension is batch size.\n",
    "    : num_outputs: The number of output that the new tensor should be.\n",
    "    : return: A 2-D tensor where the second dimension is num_outputs.\n",
    "    \"\"\"\n",
    "    # TODO: Implement Function\n",
    "    weights = tf.Variable(tf.truncated_normal([x_tensor.get_shape().as_list()[1], num_outputs],mean=0.0,stddev=0.5))\n",
    "    bias = tf.Variable(tf.constant(0.05, shape=[num_outputs]))\n",
    "    #bias = tf.Variable(tf.zeros(num_outputs))\n",
    "    out = tf.add(tf.matmul(x_tensor, weights),bias)\n",
    "    return out\n",
    "\n",
    "\n",
    "\"\"\"\n",
    "DON'T MODIFY ANYTHING IN THIS CELL THAT IS BELOW THIS LINE\n",
    "\"\"\"\n",
    "tests.test_output(output)"
   ]
  },
  {
   "cell_type": "markdown",
   "metadata": {},
   "source": [
    "### Create Convolutional Model\n",
    "Implement the function `conv_net` to create a convolutional neural network model. The function takes in a batch of images, `x`, and outputs logits.  Use the layers you created above to create this model:\n",
    "\n",
    "* Apply 1, 2, or 3 Convolution and Max Pool layers\n",
    "* Apply a Flatten Layer\n",
    "* Apply 1, 2, or 3 Fully Connected Layers\n",
    "* Apply an Output Layer\n",
    "* Return the output\n",
    "* Apply [TensorFlow's Dropout](https://www.tensorflow.org/api_docs/python/tf/nn/dropout) to one or more layers in the model using `keep_prob`. "
   ]
  },
  {
   "cell_type": "code",
   "execution_count": 22,
   "metadata": {},
   "outputs": [
    {
     "name": "stdout",
     "output_type": "stream",
     "text": [
      "(32, 32, 3)\n",
      "x_tensor shape: (?, 32, 32, 3) conv_num_outpus: 128 conv_ksize: [5, 5]            conv_strides: [2, 2] pool_ksize: [3, 3] pool_strides: [2, 2]\n",
      "shape:  [5, 5, 3, 128]\n",
      "x_tensor shape: (?, 8, 8, 128) conv_num_outpus: 256 conv_ksize: [3, 3]            conv_strides: [1, 1] pool_ksize: [1, 1] pool_strides: [2, 2]\n",
      "shape:  [3, 3, 128, 256]\n",
      "shape: (?, 4, 4, 256) num_feautres: 4096\n",
      "fl1:  Tensor(\"Reshape:0\", shape=(?, 4096), dtype=float32)  :  4096\n",
      "(?, 4096)\n",
      "(?, 500)\n",
      "x_tensor shape: (?, 32, 32, 3) conv_num_outpus: 128 conv_ksize: [5, 5]            conv_strides: [2, 2] pool_ksize: [3, 3] pool_strides: [2, 2]\n",
      "shape:  [5, 5, 3, 128]\n",
      "x_tensor shape: (?, 8, 8, 128) conv_num_outpus: 256 conv_ksize: [3, 3]            conv_strides: [1, 1] pool_ksize: [1, 1] pool_strides: [2, 2]\n",
      "shape:  [3, 3, 128, 256]\n",
      "shape: (?, 4, 4, 256) num_feautres: 4096\n",
      "fl1:  Tensor(\"Reshape_4:0\", shape=(?, 4096), dtype=float32)  :  4096\n",
      "(?, 4096)\n",
      "(?, 500)\n"
     ]
    },
    {
     "ename": "AssertionError",
     "evalue": "Incorrect Model Output.  Found [None, 1000]",
     "output_type": "error",
     "traceback": [
      "\u001b[1;31m---------------------------------------------------------------------------\u001b[0m",
      "\u001b[1;31mAssertionError\u001b[0m                            Traceback (most recent call last)",
      "\u001b[1;32m<ipython-input-22-1d817c6496ff>\u001b[0m in \u001b[0;36m<module>\u001b[1;34m()\u001b[0m\n\u001b[0;32m     74\u001b[0m \u001b[0maccuracy\u001b[0m \u001b[1;33m=\u001b[0m \u001b[0mtf\u001b[0m\u001b[1;33m.\u001b[0m\u001b[0mreduce_mean\u001b[0m\u001b[1;33m(\u001b[0m\u001b[0mtf\u001b[0m\u001b[1;33m.\u001b[0m\u001b[0mcast\u001b[0m\u001b[1;33m(\u001b[0m\u001b[0mcorrect_pred\u001b[0m\u001b[1;33m,\u001b[0m \u001b[0mtf\u001b[0m\u001b[1;33m.\u001b[0m\u001b[0mfloat32\u001b[0m\u001b[1;33m)\u001b[0m\u001b[1;33m,\u001b[0m \u001b[0mname\u001b[0m\u001b[1;33m=\u001b[0m\u001b[1;34m'accuracy'\u001b[0m\u001b[1;33m)\u001b[0m\u001b[1;33m\u001b[0m\u001b[0m\n\u001b[0;32m     75\u001b[0m \u001b[1;33m\u001b[0m\u001b[0m\n\u001b[1;32m---> 76\u001b[1;33m \u001b[0mtests\u001b[0m\u001b[1;33m.\u001b[0m\u001b[0mtest_conv_net\u001b[0m\u001b[1;33m(\u001b[0m\u001b[0mconv_net\u001b[0m\u001b[1;33m)\u001b[0m\u001b[1;33m\u001b[0m\u001b[0m\n\u001b[0m",
      "\u001b[1;32mC:\\Users\\I318768\\git\\CIFAR-100\\problem_unittests.py\u001b[0m in \u001b[0;36mtest_conv_net\u001b[1;34m(conv_net)\u001b[0m\n\u001b[0;32m    198\u001b[0m \u001b[1;33m\u001b[0m\u001b[0m\n\u001b[0;32m    199\u001b[0m     \u001b[1;32massert\u001b[0m \u001b[0mlogits_out\u001b[0m\u001b[1;33m.\u001b[0m\u001b[0mget_shape\u001b[0m\u001b[1;33m(\u001b[0m\u001b[1;33m)\u001b[0m\u001b[1;33m.\u001b[0m\u001b[0mas_list\u001b[0m\u001b[1;33m(\u001b[0m\u001b[1;33m)\u001b[0m \u001b[1;33m==\u001b[0m \u001b[1;33m[\u001b[0m\u001b[1;32mNone\u001b[0m\u001b[1;33m,\u001b[0m \u001b[1;36m10\u001b[0m\u001b[1;33m]\u001b[0m\u001b[1;33m,\u001b[0m\u001b[0;31m\\\u001b[0m\u001b[1;33m\u001b[0m\u001b[0m\n\u001b[1;32m--> 200\u001b[1;33m         \u001b[1;34m'Incorrect Model Output.  Found {}'\u001b[0m\u001b[1;33m.\u001b[0m\u001b[0mformat\u001b[0m\u001b[1;33m(\u001b[0m\u001b[0mlogits_out\u001b[0m\u001b[1;33m.\u001b[0m\u001b[0mget_shape\u001b[0m\u001b[1;33m(\u001b[0m\u001b[1;33m)\u001b[0m\u001b[1;33m.\u001b[0m\u001b[0mas_list\u001b[0m\u001b[1;33m(\u001b[0m\u001b[1;33m)\u001b[0m\u001b[1;33m)\u001b[0m\u001b[1;33m\u001b[0m\u001b[0m\n\u001b[0m\u001b[0;32m    201\u001b[0m \u001b[1;33m\u001b[0m\u001b[0m\n\u001b[0;32m    202\u001b[0m     \u001b[0mprint\u001b[0m\u001b[1;33m(\u001b[0m\u001b[1;34m'Neural Network Built!'\u001b[0m\u001b[1;33m)\u001b[0m\u001b[1;33m\u001b[0m\u001b[0m\n",
      "\u001b[1;31mAssertionError\u001b[0m: Incorrect Model Output.  Found [None, 1000]"
     ]
    }
   ],
   "source": [
    "def conv_net(x, keep_prob):\n",
    "    \"\"\"\n",
    "    Create a convolutional neural network model\n",
    "    : x: Placeholder tensor that holds image data.\n",
    "    : keep_prob: Placeholder tensor that hold dropout keep probability.\n",
    "    : return: Tensor that represents logits\n",
    "    \"\"\"\n",
    "    \n",
    "    # TODO: Apply 1, 2, or 3 Convolution and Max Pool layers\n",
    "    #    Play around with different number of outputs, kernel size and stride\n",
    "    # Function Definition from Above:\n",
    "    #    conv2d_maxpool(x_tensor, conv_num_outputs, conv_ksize, conv_strides, pool_ksize, pool_strides)\n",
    "    conv1 = conv2d_maxpool(x, 128, [5,5], [2,2], [3,3], [2,2])\n",
    "    conv1 = tf.nn.dropout(conv1, keep_prob)\n",
    "    conv2 = conv2d_maxpool(conv1, 256, [3,3], [1,1], [1,1], [2,2])\n",
    "    #conv2 = tf.nn.dropout(conv2, keep_prob)\n",
    "    #conv3 = conv2d_maxpool(conv2, 128, [5,5], [2,2], [3,3], [2,2])\n",
    "    # TODO: Apply a Flatten Layer\n",
    "    # Function Definition from Above:\n",
    "    #   flatten(x_tensor)\n",
    "    fl1=flatten(conv2)\n",
    "    print(\"fl1: \",fl1,\" : \",fl1.get_shape().as_list()[1])\n",
    "    # TODO: Apply 1, 2, or 3 Fully Connected Layers\n",
    "    #    Play around with different number of outputs\n",
    "    # Function Definition from Above:\n",
    "    #   fully_conn(x_tensor, num_outputs)\n",
    "    fc1 = fully_conn(fl1,500)\n",
    "    fc1 = tf.nn.dropout(fc1, keep_prob)\n",
    "    fc2 = fully_conn(fc1,100)\n",
    "    #tf.nn.dropout(fc1, keep_prob)\n",
    "    # TODO: Apply an Output Layer\n",
    "    #    Set this to the number of classes\n",
    "    # Function Definition from Above:\n",
    "    #   output(x_tensor, num_outputs)\n",
    "    if test_for_10:\n",
    "        out = output(fc2,10)\n",
    "    else:\n",
    "        out = output(fc2, 1000)\n",
    "    return out\n",
    "    \n",
    "\n",
    "\n",
    "\"\"\"\n",
    "DON'T MODIFY ANYTHING IN THIS CELL THAT IS BELOW THIS LINE\n",
    "\"\"\"\n",
    "\n",
    "##############################\n",
    "## Build the Neural Network ##\n",
    "##############################\n",
    "\n",
    "# Remove previous weights, bias, inputs, etc..\n",
    "tf.reset_default_graph()\n",
    "\n",
    "# Inputs\n",
    "x = neural_net_image_input((32, 32, 3))\n",
    "if test_for_10:\n",
    "    y = neural_net_label_input(10)\n",
    "else: \n",
    "    y = neural_net_label_input(1000)\n",
    "keep_prob = neural_net_keep_prob_input()\n",
    "\n",
    "# Model\n",
    "logits = conv_net(x, keep_prob)\n",
    "\n",
    "# Name logits Tensor, so that is can be loaded from disk after training\n",
    "logits = tf.identity(logits, name='logits')\n",
    "\n",
    "# Loss and Optimizer\n",
    "cost = tf.reduce_mean(tf.nn.softmax_cross_entropy_with_logits(logits=logits, labels=y))\n",
    "optimizer = tf.train.AdamOptimizer().minimize(cost)\n",
    "\n",
    "# Accuracy\n",
    "correct_pred = tf.equal(tf.argmax(logits, 1), tf.argmax(y, 1))\n",
    "accuracy = tf.reduce_mean(tf.cast(correct_pred, tf.float32), name='accuracy')\n",
    "\n",
    "tests.test_conv_net(conv_net)"
   ]
  },
  {
   "cell_type": "markdown",
   "metadata": {},
   "source": [
    "## Train the Neural Network\n",
    "### Single Optimization\n",
    "Implement the function `train_neural_network` to do a single optimization.  The optimization should use `optimizer` to optimize in `session` with a `feed_dict` of the following:\n",
    "* `x` for image input\n",
    "* `y` for labels\n",
    "* `keep_prob` for keep probability for dropout\n",
    "\n",
    "This function will be called for each batch, so `tf.global_variables_initializer()` has already been called.\n",
    "\n",
    "Note: Nothing needs to be returned. This function is only optimizing the neural network."
   ]
  },
  {
   "cell_type": "code",
   "execution_count": 23,
   "metadata": {},
   "outputs": [
    {
     "name": "stdout",
     "output_type": "stream",
     "text": [
      "Tests Passed\n"
     ]
    }
   ],
   "source": [
    "def train_neural_network(session, optimizer, keep_probability, feature_batch, label_batch):\n",
    "    \"\"\"\n",
    "    Optimize the session on a batch of images and labels\n",
    "    : session: Current TensorFlow session\n",
    "    : optimizer: TensorFlow optimizer function\n",
    "    : keep_probability: keep probability\n",
    "    : feature_batch: Batch of Numpy image data\n",
    "    : label_batch: Batch of Numpy label data\n",
    "    \"\"\"\n",
    "    # TODO: Implement Function\n",
    "    session.run(optimizer, feed_dict={\n",
    "        x: feature_batch,\n",
    "        y : label_batch,\n",
    "        keep_prob : keep_probability\n",
    "    })\n",
    "\n",
    "\n",
    "\"\"\"\n",
    "DON'T MODIFY ANYTHING IN THIS CELL THAT IS BELOW THIS LINE\n",
    "\"\"\"\n",
    "tests.test_train_nn(train_neural_network)"
   ]
  },
  {
   "cell_type": "markdown",
   "metadata": {},
   "source": [
    "### Show Stats\n",
    "Implement the function `print_stats` to print loss and validation accuracy.  Use the global variables `valid_features` and `valid_labels` to calculate validation accuracy.  Use a keep probability of `1.0` to calculate the loss and validation accuracy."
   ]
  },
  {
   "cell_type": "code",
   "execution_count": 24,
   "metadata": {
    "collapsed": true
   },
   "outputs": [],
   "source": [
    "def print_stats(session, feature_batch, label_batch, cost, accuracy):\n",
    "    \"\"\"\n",
    "    Print information about loss and validation accuracy\n",
    "    : session: Current TensorFlow session\n",
    "    : feature_batch: Batch of Numpy image data\n",
    "    : label_batch: Batch of Numpy label data\n",
    "    : cost: TensorFlow cost function\n",
    "    : accuracy: TensorFlow accuracy function\n",
    "    \"\"\"\n",
    "    # TODO: Implement Function\n",
    "    loss = session.run(cost, feed_dict={\n",
    "        x : feature_batch,\n",
    "        y : label_batch,\n",
    "        keep_prob: 1.0\n",
    "    })\n",
    "    validation_accuracy = sess.run(accuracy, feed_dict={\n",
    "        x: valid_features,\n",
    "        y: valid_labels,\n",
    "        keep_prob: 1.0\n",
    "    })\n",
    "    print('Loss: {:>10.4f} Accuracy: {:.6f}'.format(loss,validation_accuracy))\n",
    "    "
   ]
  },
  {
   "cell_type": "markdown",
   "metadata": {},
   "source": [
    "### Hyperparameters\n",
    "Tune the following parameters:\n",
    "* Set `epochs` to the number of iterations until the network stops learning or start overfitting\n",
    "* Set `batch_size` to the highest number that your machine has memory for.  Most people set them to common sizes of memory:\n",
    " * 64\n",
    " * 128\n",
    " * 256\n",
    " * ...\n",
    "* Set `keep_probability` to the probability of keeping a node using dropout"
   ]
  },
  {
   "cell_type": "code",
   "execution_count": 25,
   "metadata": {
    "collapsed": true
   },
   "outputs": [],
   "source": [
    "# TODO: Tune Parameters\n",
    "epochs = 2\n",
    "batch_size = 256\n",
    "keep_probability = 0.5\n",
    "test_for_10 = False"
   ]
  },
  {
   "cell_type": "markdown",
   "metadata": {},
   "source": [
    "### Train on a full data CIFAR-100 Batch\n",
    "Instead of training the neural network on all the CIFAR-10 batches of data, let's use a single batch. \n",
    "This should save time while you iterate on the model to get a better accuracy.  Once the final validation accuracy is 50% or greater, run the model on all the data in the next section."
   ]
  },
  {
   "cell_type": "code",
   "execution_count": 26,
   "metadata": {},
   "outputs": [
    {
     "name": "stdout",
     "output_type": "stream",
     "text": [
      "Checking the Training full data...\n"
     ]
    },
    {
     "ename": "KeyboardInterrupt",
     "evalue": "",
     "output_type": "error",
     "traceback": [
      "\u001b[1;31m---------------------------------------------------------------------------\u001b[0m",
      "\u001b[1;31mKeyboardInterrupt\u001b[0m                         Traceback (most recent call last)",
      "\u001b[1;32m<ipython-input-26-2a5a6cbb4ded>\u001b[0m in \u001b[0;36m<module>\u001b[1;34m()\u001b[0m\n\u001b[0;32m     12\u001b[0m         \u001b[0mbatch_i\u001b[0m \u001b[1;33m=\u001b[0m \u001b[1;36m1\u001b[0m\u001b[1;33m\u001b[0m\u001b[0m\n\u001b[0;32m     13\u001b[0m         \u001b[1;32mfor\u001b[0m \u001b[0mbatch_features\u001b[0m\u001b[1;33m,\u001b[0m \u001b[0mbatch_labels\u001b[0m \u001b[1;32min\u001b[0m \u001b[0mhelper\u001b[0m\u001b[1;33m.\u001b[0m\u001b[0mload_preprocess_training_100\u001b[0m\u001b[1;33m(\u001b[0m\u001b[0mbatch_i\u001b[0m\u001b[1;33m,\u001b[0m \u001b[0mbatch_size\u001b[0m\u001b[1;33m)\u001b[0m\u001b[1;33m:\u001b[0m\u001b[1;33m\u001b[0m\u001b[0m\n\u001b[1;32m---> 14\u001b[1;33m             \u001b[0mtrain_neural_network\u001b[0m\u001b[1;33m(\u001b[0m\u001b[0msess\u001b[0m\u001b[1;33m,\u001b[0m \u001b[0moptimizer\u001b[0m\u001b[1;33m,\u001b[0m \u001b[0mkeep_probability\u001b[0m\u001b[1;33m,\u001b[0m \u001b[0mbatch_features\u001b[0m\u001b[1;33m,\u001b[0m \u001b[0mbatch_labels\u001b[0m\u001b[1;33m)\u001b[0m\u001b[1;33m\u001b[0m\u001b[0m\n\u001b[0m\u001b[0;32m     15\u001b[0m         \u001b[0mprint\u001b[0m\u001b[1;33m(\u001b[0m\u001b[1;34m'Epoch {:>2}, CIFAR-10 Batch {}:  '\u001b[0m\u001b[1;33m.\u001b[0m\u001b[0mformat\u001b[0m\u001b[1;33m(\u001b[0m\u001b[0mepoch\u001b[0m \u001b[1;33m+\u001b[0m \u001b[1;36m1\u001b[0m\u001b[1;33m,\u001b[0m \u001b[0mbatch_i\u001b[0m\u001b[1;33m)\u001b[0m\u001b[1;33m,\u001b[0m \u001b[0mend\u001b[0m\u001b[1;33m=\u001b[0m\u001b[1;34m''\u001b[0m\u001b[1;33m)\u001b[0m\u001b[1;33m\u001b[0m\u001b[0m\n\u001b[0;32m     16\u001b[0m         \u001b[0mprint_stats\u001b[0m\u001b[1;33m(\u001b[0m\u001b[0msess\u001b[0m\u001b[1;33m,\u001b[0m \u001b[0mbatch_features\u001b[0m\u001b[1;33m,\u001b[0m \u001b[0mbatch_labels\u001b[0m\u001b[1;33m,\u001b[0m \u001b[0mcost\u001b[0m\u001b[1;33m,\u001b[0m \u001b[0maccuracy\u001b[0m\u001b[1;33m)\u001b[0m\u001b[1;33m\u001b[0m\u001b[0m\n",
      "\u001b[1;32m<ipython-input-23-42400e5269cf>\u001b[0m in \u001b[0;36mtrain_neural_network\u001b[1;34m(session, optimizer, keep_probability, feature_batch, label_batch)\u001b[0m\n\u001b[0;32m     12\u001b[0m         \u001b[0mx\u001b[0m\u001b[1;33m:\u001b[0m \u001b[0mfeature_batch\u001b[0m\u001b[1;33m,\u001b[0m\u001b[1;33m\u001b[0m\u001b[0m\n\u001b[0;32m     13\u001b[0m         \u001b[0my\u001b[0m \u001b[1;33m:\u001b[0m \u001b[0mlabel_batch\u001b[0m\u001b[1;33m,\u001b[0m\u001b[1;33m\u001b[0m\u001b[0m\n\u001b[1;32m---> 14\u001b[1;33m         \u001b[0mkeep_prob\u001b[0m \u001b[1;33m:\u001b[0m \u001b[0mkeep_probability\u001b[0m\u001b[1;33m\u001b[0m\u001b[0m\n\u001b[0m\u001b[0;32m     15\u001b[0m     })\n\u001b[0;32m     16\u001b[0m \u001b[1;33m\u001b[0m\u001b[0m\n",
      "\u001b[1;32mC:\\Users\\I318768\\AppData\\Local\\Continuum\\Anaconda3\\envs\\deep-learning\\lib\\site-packages\\tensorflow\\python\\client\\session.py\u001b[0m in \u001b[0;36mrun\u001b[1;34m(self, fetches, feed_dict, options, run_metadata)\u001b[0m\n\u001b[0;32m    765\u001b[0m     \u001b[1;32mtry\u001b[0m\u001b[1;33m:\u001b[0m\u001b[1;33m\u001b[0m\u001b[0m\n\u001b[0;32m    766\u001b[0m       result = self._run(None, fetches, feed_dict, options_ptr,\n\u001b[1;32m--> 767\u001b[1;33m                          run_metadata_ptr)\n\u001b[0m\u001b[0;32m    768\u001b[0m       \u001b[1;32mif\u001b[0m \u001b[0mrun_metadata\u001b[0m\u001b[1;33m:\u001b[0m\u001b[1;33m\u001b[0m\u001b[0m\n\u001b[0;32m    769\u001b[0m         \u001b[0mproto_data\u001b[0m \u001b[1;33m=\u001b[0m \u001b[0mtf_session\u001b[0m\u001b[1;33m.\u001b[0m\u001b[0mTF_GetBuffer\u001b[0m\u001b[1;33m(\u001b[0m\u001b[0mrun_metadata_ptr\u001b[0m\u001b[1;33m)\u001b[0m\u001b[1;33m\u001b[0m\u001b[0m\n",
      "\u001b[1;32mC:\\Users\\I318768\\AppData\\Local\\Continuum\\Anaconda3\\envs\\deep-learning\\lib\\site-packages\\tensorflow\\python\\client\\session.py\u001b[0m in \u001b[0;36m_run\u001b[1;34m(self, handle, fetches, feed_dict, options, run_metadata)\u001b[0m\n\u001b[0;32m    963\u001b[0m     \u001b[1;32mif\u001b[0m \u001b[0mfinal_fetches\u001b[0m \u001b[1;32mor\u001b[0m \u001b[0mfinal_targets\u001b[0m\u001b[1;33m:\u001b[0m\u001b[1;33m\u001b[0m\u001b[0m\n\u001b[0;32m    964\u001b[0m       results = self._do_run(handle, final_targets, final_fetches,\n\u001b[1;32m--> 965\u001b[1;33m                              feed_dict_string, options, run_metadata)\n\u001b[0m\u001b[0;32m    966\u001b[0m     \u001b[1;32melse\u001b[0m\u001b[1;33m:\u001b[0m\u001b[1;33m\u001b[0m\u001b[0m\n\u001b[0;32m    967\u001b[0m       \u001b[0mresults\u001b[0m \u001b[1;33m=\u001b[0m \u001b[1;33m[\u001b[0m\u001b[1;33m]\u001b[0m\u001b[1;33m\u001b[0m\u001b[0m\n",
      "\u001b[1;32mC:\\Users\\I318768\\AppData\\Local\\Continuum\\Anaconda3\\envs\\deep-learning\\lib\\site-packages\\tensorflow\\python\\client\\session.py\u001b[0m in \u001b[0;36m_do_run\u001b[1;34m(self, handle, target_list, fetch_list, feed_dict, options, run_metadata)\u001b[0m\n\u001b[0;32m   1013\u001b[0m     \u001b[1;32mif\u001b[0m \u001b[0mhandle\u001b[0m \u001b[1;32mis\u001b[0m \u001b[1;32mNone\u001b[0m\u001b[1;33m:\u001b[0m\u001b[1;33m\u001b[0m\u001b[0m\n\u001b[0;32m   1014\u001b[0m       return self._do_call(_run_fn, self._session, feed_dict, fetch_list,\n\u001b[1;32m-> 1015\u001b[1;33m                            target_list, options, run_metadata)\n\u001b[0m\u001b[0;32m   1016\u001b[0m     \u001b[1;32melse\u001b[0m\u001b[1;33m:\u001b[0m\u001b[1;33m\u001b[0m\u001b[0m\n\u001b[0;32m   1017\u001b[0m       return self._do_call(_prun_fn, self._session, handle, feed_dict,\n",
      "\u001b[1;32mC:\\Users\\I318768\\AppData\\Local\\Continuum\\Anaconda3\\envs\\deep-learning\\lib\\site-packages\\tensorflow\\python\\client\\session.py\u001b[0m in \u001b[0;36m_do_call\u001b[1;34m(self, fn, *args)\u001b[0m\n\u001b[0;32m   1020\u001b[0m   \u001b[1;32mdef\u001b[0m \u001b[0m_do_call\u001b[0m\u001b[1;33m(\u001b[0m\u001b[0mself\u001b[0m\u001b[1;33m,\u001b[0m \u001b[0mfn\u001b[0m\u001b[1;33m,\u001b[0m \u001b[1;33m*\u001b[0m\u001b[0margs\u001b[0m\u001b[1;33m)\u001b[0m\u001b[1;33m:\u001b[0m\u001b[1;33m\u001b[0m\u001b[0m\n\u001b[0;32m   1021\u001b[0m     \u001b[1;32mtry\u001b[0m\u001b[1;33m:\u001b[0m\u001b[1;33m\u001b[0m\u001b[0m\n\u001b[1;32m-> 1022\u001b[1;33m       \u001b[1;32mreturn\u001b[0m \u001b[0mfn\u001b[0m\u001b[1;33m(\u001b[0m\u001b[1;33m*\u001b[0m\u001b[0margs\u001b[0m\u001b[1;33m)\u001b[0m\u001b[1;33m\u001b[0m\u001b[0m\n\u001b[0m\u001b[0;32m   1023\u001b[0m     \u001b[1;32mexcept\u001b[0m \u001b[0merrors\u001b[0m\u001b[1;33m.\u001b[0m\u001b[0mOpError\u001b[0m \u001b[1;32mas\u001b[0m \u001b[0me\u001b[0m\u001b[1;33m:\u001b[0m\u001b[1;33m\u001b[0m\u001b[0m\n\u001b[0;32m   1024\u001b[0m       \u001b[0mmessage\u001b[0m \u001b[1;33m=\u001b[0m \u001b[0mcompat\u001b[0m\u001b[1;33m.\u001b[0m\u001b[0mas_text\u001b[0m\u001b[1;33m(\u001b[0m\u001b[0me\u001b[0m\u001b[1;33m.\u001b[0m\u001b[0mmessage\u001b[0m\u001b[1;33m)\u001b[0m\u001b[1;33m\u001b[0m\u001b[0m\n",
      "\u001b[1;32mC:\\Users\\I318768\\AppData\\Local\\Continuum\\Anaconda3\\envs\\deep-learning\\lib\\site-packages\\tensorflow\\python\\client\\session.py\u001b[0m in \u001b[0;36m_run_fn\u001b[1;34m(session, feed_dict, fetch_list, target_list, options, run_metadata)\u001b[0m\n\u001b[0;32m   1002\u001b[0m         return tf_session.TF_Run(session, options,\n\u001b[0;32m   1003\u001b[0m                                  \u001b[0mfeed_dict\u001b[0m\u001b[1;33m,\u001b[0m \u001b[0mfetch_list\u001b[0m\u001b[1;33m,\u001b[0m \u001b[0mtarget_list\u001b[0m\u001b[1;33m,\u001b[0m\u001b[1;33m\u001b[0m\u001b[0m\n\u001b[1;32m-> 1004\u001b[1;33m                                  status, run_metadata)\n\u001b[0m\u001b[0;32m   1005\u001b[0m \u001b[1;33m\u001b[0m\u001b[0m\n\u001b[0;32m   1006\u001b[0m     \u001b[1;32mdef\u001b[0m \u001b[0m_prun_fn\u001b[0m\u001b[1;33m(\u001b[0m\u001b[0msession\u001b[0m\u001b[1;33m,\u001b[0m \u001b[0mhandle\u001b[0m\u001b[1;33m,\u001b[0m \u001b[0mfeed_dict\u001b[0m\u001b[1;33m,\u001b[0m \u001b[0mfetch_list\u001b[0m\u001b[1;33m)\u001b[0m\u001b[1;33m:\u001b[0m\u001b[1;33m\u001b[0m\u001b[0m\n",
      "\u001b[1;31mKeyboardInterrupt\u001b[0m: "
     ]
    }
   ],
   "source": [
    "\"\"\"\n",
    "DON'T MODIFY ANYTHING IN THIS CELL\n",
    "\"\"\"\n",
    "save_model_path = './image_classification_100'\n",
    "print('Checking the Training full data...')\n",
    "with tf.Session() as sess:\n",
    "    # Initializing the variables\n",
    "    sess.run(tf.global_variables_initializer())\n",
    "    \n",
    "    # Training cycle\n",
    "    for epoch in range(epochs):\n",
    "        batch_i = 1\n",
    "        for batch_features, batch_labels in helper.load_preprocess_training_100(batch_i, batch_size):\n",
    "            train_neural_network(sess, optimizer, keep_probability, batch_features, batch_labels)\n",
    "        print('Epoch {:>2}, CIFAR-10 Batch {}:  '.format(epoch + 1, batch_i), end='')\n",
    "        print_stats(sess, batch_features, batch_labels, cost, accuracy)\n",
    "    \n",
    "    saver = tf.train.Saver()\n",
    "    save_path = saver.save(sess, save_model_path)"
   ]
  },
  {
   "cell_type": "markdown",
   "metadata": {},
   "source": [
    "### Train on a Single CIFAR-10 Batch\n",
    "Instead of training the neural network on all the CIFAR-10 batches of data, let's use a single batch. This should save time while you iterate on the model to get a better accuracy.  Once the final validation accuracy is 50% or greater, run the model on all the data in the next section."
   ]
  },
  {
   "cell_type": "code",
   "execution_count": 20,
   "metadata": {},
   "outputs": [
    {
     "name": "stdout",
     "output_type": "stream",
     "text": [
      "Checking the Training on a Single Batch...\n"
     ]
    },
    {
     "ename": "KeyboardInterrupt",
     "evalue": "",
     "output_type": "error",
     "traceback": [
      "\u001b[1;31m---------------------------------------------------------------------------\u001b[0m",
      "\u001b[1;31mKeyboardInterrupt\u001b[0m                         Traceback (most recent call last)",
      "\u001b[1;32m<ipython-input-20-0ebd1bbc35ad>\u001b[0m in \u001b[0;36m<module>\u001b[1;34m()\u001b[0m\n\u001b[0;32m     11\u001b[0m         \u001b[0mbatch_i\u001b[0m \u001b[1;33m=\u001b[0m \u001b[1;36m1\u001b[0m\u001b[1;33m\u001b[0m\u001b[0m\n\u001b[0;32m     12\u001b[0m         \u001b[1;32mfor\u001b[0m \u001b[0mbatch_features\u001b[0m\u001b[1;33m,\u001b[0m \u001b[0mbatch_labels\u001b[0m \u001b[1;32min\u001b[0m \u001b[0mhelper\u001b[0m\u001b[1;33m.\u001b[0m\u001b[0mload_preprocess_training_batch\u001b[0m\u001b[1;33m(\u001b[0m\u001b[0mbatch_i\u001b[0m\u001b[1;33m,\u001b[0m \u001b[0mbatch_size\u001b[0m\u001b[1;33m)\u001b[0m\u001b[1;33m:\u001b[0m\u001b[1;33m\u001b[0m\u001b[0m\n\u001b[1;32m---> 13\u001b[1;33m             \u001b[0mtrain_neural_network\u001b[0m\u001b[1;33m(\u001b[0m\u001b[0msess\u001b[0m\u001b[1;33m,\u001b[0m \u001b[0moptimizer\u001b[0m\u001b[1;33m,\u001b[0m \u001b[0mkeep_probability\u001b[0m\u001b[1;33m,\u001b[0m \u001b[0mbatch_features\u001b[0m\u001b[1;33m,\u001b[0m \u001b[0mbatch_labels\u001b[0m\u001b[1;33m)\u001b[0m\u001b[1;33m\u001b[0m\u001b[0m\n\u001b[0m\u001b[0;32m     14\u001b[0m         \u001b[0mprint\u001b[0m\u001b[1;33m(\u001b[0m\u001b[1;34m'Epoch {:>2}, CIFAR-10 Batch {}:  '\u001b[0m\u001b[1;33m.\u001b[0m\u001b[0mformat\u001b[0m\u001b[1;33m(\u001b[0m\u001b[0mepoch\u001b[0m \u001b[1;33m+\u001b[0m \u001b[1;36m1\u001b[0m\u001b[1;33m,\u001b[0m \u001b[0mbatch_i\u001b[0m\u001b[1;33m)\u001b[0m\u001b[1;33m,\u001b[0m \u001b[0mend\u001b[0m\u001b[1;33m=\u001b[0m\u001b[1;34m''\u001b[0m\u001b[1;33m)\u001b[0m\u001b[1;33m\u001b[0m\u001b[0m\n\u001b[0;32m     15\u001b[0m         \u001b[0mprint_stats\u001b[0m\u001b[1;33m(\u001b[0m\u001b[0msess\u001b[0m\u001b[1;33m,\u001b[0m \u001b[0mbatch_features\u001b[0m\u001b[1;33m,\u001b[0m \u001b[0mbatch_labels\u001b[0m\u001b[1;33m,\u001b[0m \u001b[0mcost\u001b[0m\u001b[1;33m,\u001b[0m \u001b[0maccuracy\u001b[0m\u001b[1;33m)\u001b[0m\u001b[1;33m\u001b[0m\u001b[0m\n",
      "\u001b[1;32m<ipython-input-17-42400e5269cf>\u001b[0m in \u001b[0;36mtrain_neural_network\u001b[1;34m(session, optimizer, keep_probability, feature_batch, label_batch)\u001b[0m\n\u001b[0;32m     12\u001b[0m         \u001b[0mx\u001b[0m\u001b[1;33m:\u001b[0m \u001b[0mfeature_batch\u001b[0m\u001b[1;33m,\u001b[0m\u001b[1;33m\u001b[0m\u001b[0m\n\u001b[0;32m     13\u001b[0m         \u001b[0my\u001b[0m \u001b[1;33m:\u001b[0m \u001b[0mlabel_batch\u001b[0m\u001b[1;33m,\u001b[0m\u001b[1;33m\u001b[0m\u001b[0m\n\u001b[1;32m---> 14\u001b[1;33m         \u001b[0mkeep_prob\u001b[0m \u001b[1;33m:\u001b[0m \u001b[0mkeep_probability\u001b[0m\u001b[1;33m\u001b[0m\u001b[0m\n\u001b[0m\u001b[0;32m     15\u001b[0m     })\n\u001b[0;32m     16\u001b[0m \u001b[1;33m\u001b[0m\u001b[0m\n",
      "\u001b[1;32mC:\\Users\\I318768\\AppData\\Local\\Continuum\\Anaconda3\\envs\\deep-learning\\lib\\site-packages\\tensorflow\\python\\client\\session.py\u001b[0m in \u001b[0;36mrun\u001b[1;34m(self, fetches, feed_dict, options, run_metadata)\u001b[0m\n\u001b[0;32m    765\u001b[0m     \u001b[1;32mtry\u001b[0m\u001b[1;33m:\u001b[0m\u001b[1;33m\u001b[0m\u001b[0m\n\u001b[0;32m    766\u001b[0m       result = self._run(None, fetches, feed_dict, options_ptr,\n\u001b[1;32m--> 767\u001b[1;33m                          run_metadata_ptr)\n\u001b[0m\u001b[0;32m    768\u001b[0m       \u001b[1;32mif\u001b[0m \u001b[0mrun_metadata\u001b[0m\u001b[1;33m:\u001b[0m\u001b[1;33m\u001b[0m\u001b[0m\n\u001b[0;32m    769\u001b[0m         \u001b[0mproto_data\u001b[0m \u001b[1;33m=\u001b[0m \u001b[0mtf_session\u001b[0m\u001b[1;33m.\u001b[0m\u001b[0mTF_GetBuffer\u001b[0m\u001b[1;33m(\u001b[0m\u001b[0mrun_metadata_ptr\u001b[0m\u001b[1;33m)\u001b[0m\u001b[1;33m\u001b[0m\u001b[0m\n",
      "\u001b[1;32mC:\\Users\\I318768\\AppData\\Local\\Continuum\\Anaconda3\\envs\\deep-learning\\lib\\site-packages\\tensorflow\\python\\client\\session.py\u001b[0m in \u001b[0;36m_run\u001b[1;34m(self, handle, fetches, feed_dict, options, run_metadata)\u001b[0m\n\u001b[0;32m    963\u001b[0m     \u001b[1;32mif\u001b[0m \u001b[0mfinal_fetches\u001b[0m \u001b[1;32mor\u001b[0m \u001b[0mfinal_targets\u001b[0m\u001b[1;33m:\u001b[0m\u001b[1;33m\u001b[0m\u001b[0m\n\u001b[0;32m    964\u001b[0m       results = self._do_run(handle, final_targets, final_fetches,\n\u001b[1;32m--> 965\u001b[1;33m                              feed_dict_string, options, run_metadata)\n\u001b[0m\u001b[0;32m    966\u001b[0m     \u001b[1;32melse\u001b[0m\u001b[1;33m:\u001b[0m\u001b[1;33m\u001b[0m\u001b[0m\n\u001b[0;32m    967\u001b[0m       \u001b[0mresults\u001b[0m \u001b[1;33m=\u001b[0m \u001b[1;33m[\u001b[0m\u001b[1;33m]\u001b[0m\u001b[1;33m\u001b[0m\u001b[0m\n",
      "\u001b[1;32mC:\\Users\\I318768\\AppData\\Local\\Continuum\\Anaconda3\\envs\\deep-learning\\lib\\site-packages\\tensorflow\\python\\client\\session.py\u001b[0m in \u001b[0;36m_do_run\u001b[1;34m(self, handle, target_list, fetch_list, feed_dict, options, run_metadata)\u001b[0m\n\u001b[0;32m   1013\u001b[0m     \u001b[1;32mif\u001b[0m \u001b[0mhandle\u001b[0m \u001b[1;32mis\u001b[0m \u001b[1;32mNone\u001b[0m\u001b[1;33m:\u001b[0m\u001b[1;33m\u001b[0m\u001b[0m\n\u001b[0;32m   1014\u001b[0m       return self._do_call(_run_fn, self._session, feed_dict, fetch_list,\n\u001b[1;32m-> 1015\u001b[1;33m                            target_list, options, run_metadata)\n\u001b[0m\u001b[0;32m   1016\u001b[0m     \u001b[1;32melse\u001b[0m\u001b[1;33m:\u001b[0m\u001b[1;33m\u001b[0m\u001b[0m\n\u001b[0;32m   1017\u001b[0m       return self._do_call(_prun_fn, self._session, handle, feed_dict,\n",
      "\u001b[1;32mC:\\Users\\I318768\\AppData\\Local\\Continuum\\Anaconda3\\envs\\deep-learning\\lib\\site-packages\\tensorflow\\python\\client\\session.py\u001b[0m in \u001b[0;36m_do_call\u001b[1;34m(self, fn, *args)\u001b[0m\n\u001b[0;32m   1020\u001b[0m   \u001b[1;32mdef\u001b[0m \u001b[0m_do_call\u001b[0m\u001b[1;33m(\u001b[0m\u001b[0mself\u001b[0m\u001b[1;33m,\u001b[0m \u001b[0mfn\u001b[0m\u001b[1;33m,\u001b[0m \u001b[1;33m*\u001b[0m\u001b[0margs\u001b[0m\u001b[1;33m)\u001b[0m\u001b[1;33m:\u001b[0m\u001b[1;33m\u001b[0m\u001b[0m\n\u001b[0;32m   1021\u001b[0m     \u001b[1;32mtry\u001b[0m\u001b[1;33m:\u001b[0m\u001b[1;33m\u001b[0m\u001b[0m\n\u001b[1;32m-> 1022\u001b[1;33m       \u001b[1;32mreturn\u001b[0m \u001b[0mfn\u001b[0m\u001b[1;33m(\u001b[0m\u001b[1;33m*\u001b[0m\u001b[0margs\u001b[0m\u001b[1;33m)\u001b[0m\u001b[1;33m\u001b[0m\u001b[0m\n\u001b[0m\u001b[0;32m   1023\u001b[0m     \u001b[1;32mexcept\u001b[0m \u001b[0merrors\u001b[0m\u001b[1;33m.\u001b[0m\u001b[0mOpError\u001b[0m \u001b[1;32mas\u001b[0m \u001b[0me\u001b[0m\u001b[1;33m:\u001b[0m\u001b[1;33m\u001b[0m\u001b[0m\n\u001b[0;32m   1024\u001b[0m       \u001b[0mmessage\u001b[0m \u001b[1;33m=\u001b[0m \u001b[0mcompat\u001b[0m\u001b[1;33m.\u001b[0m\u001b[0mas_text\u001b[0m\u001b[1;33m(\u001b[0m\u001b[0me\u001b[0m\u001b[1;33m.\u001b[0m\u001b[0mmessage\u001b[0m\u001b[1;33m)\u001b[0m\u001b[1;33m\u001b[0m\u001b[0m\n",
      "\u001b[1;32mC:\\Users\\I318768\\AppData\\Local\\Continuum\\Anaconda3\\envs\\deep-learning\\lib\\site-packages\\tensorflow\\python\\client\\session.py\u001b[0m in \u001b[0;36m_run_fn\u001b[1;34m(session, feed_dict, fetch_list, target_list, options, run_metadata)\u001b[0m\n\u001b[0;32m   1002\u001b[0m         return tf_session.TF_Run(session, options,\n\u001b[0;32m   1003\u001b[0m                                  \u001b[0mfeed_dict\u001b[0m\u001b[1;33m,\u001b[0m \u001b[0mfetch_list\u001b[0m\u001b[1;33m,\u001b[0m \u001b[0mtarget_list\u001b[0m\u001b[1;33m,\u001b[0m\u001b[1;33m\u001b[0m\u001b[0m\n\u001b[1;32m-> 1004\u001b[1;33m                                  status, run_metadata)\n\u001b[0m\u001b[0;32m   1005\u001b[0m \u001b[1;33m\u001b[0m\u001b[0m\n\u001b[0;32m   1006\u001b[0m     \u001b[1;32mdef\u001b[0m \u001b[0m_prun_fn\u001b[0m\u001b[1;33m(\u001b[0m\u001b[0msession\u001b[0m\u001b[1;33m,\u001b[0m \u001b[0mhandle\u001b[0m\u001b[1;33m,\u001b[0m \u001b[0mfeed_dict\u001b[0m\u001b[1;33m,\u001b[0m \u001b[0mfetch_list\u001b[0m\u001b[1;33m)\u001b[0m\u001b[1;33m:\u001b[0m\u001b[1;33m\u001b[0m\u001b[0m\n",
      "\u001b[1;31mKeyboardInterrupt\u001b[0m: "
     ]
    }
   ],
   "source": [
    "\"\"\"\n",
    "DON'T MODIFY ANYTHING IN THIS CELL\n",
    "\"\"\"\n",
    "print('Checking the Training on a Single Batch...')\n",
    "with tf.Session() as sess:\n",
    "    # Initializing the variables\n",
    "    sess.run(tf.global_variables_initializer())\n",
    "    \n",
    "    # Training cycle\n",
    "    for epoch in range(epochs):\n",
    "        batch_i = 1\n",
    "        for batch_features, batch_labels in helper.load_preprocess_training_batch(batch_i, batch_size):\n",
    "            train_neural_network(sess, optimizer, keep_probability, batch_features, batch_labels)\n",
    "        print('Epoch {:>2}, CIFAR-10 Batch {}:  '.format(epoch + 1, batch_i), end='')\n",
    "        print_stats(sess, batch_features, batch_labels, cost, accuracy)"
   ]
  },
  {
   "cell_type": "markdown",
   "metadata": {},
   "source": [
    "### Fully Train the Model\n",
    "Now that you got a good accuracy with a single CIFAR-10 batch, try it with all five batches."
   ]
  },
  {
   "cell_type": "code",
   "execution_count": 19,
   "metadata": {},
   "outputs": [
    {
     "name": "stdout",
     "output_type": "stream",
     "text": [
      "Training...\n",
      "Epoch  1, CIFAR-10 Batch 1:  Loss:     2.2988 Accuracy: 0.147000\n",
      "Epoch  1, CIFAR-10 Batch 2:  Loss:     2.2941 Accuracy: 0.186800\n",
      "Epoch  1, CIFAR-10 Batch 3:  Loss:     2.0140 Accuracy: 0.259400\n",
      "Epoch  1, CIFAR-10 Batch 4:  Loss:     1.8866 Accuracy: 0.348400\n",
      "Epoch  1, CIFAR-10 Batch 5:  Loss:     1.8208 Accuracy: 0.350200\n",
      "Epoch  2, CIFAR-10 Batch 1:  Loss:     1.8782 Accuracy: 0.390000\n",
      "Epoch  2, CIFAR-10 Batch 2:  Loss:     1.7205 Accuracy: 0.409000\n",
      "Epoch  2, CIFAR-10 Batch 3:  Loss:     1.4340 Accuracy: 0.394000\n",
      "Epoch  2, CIFAR-10 Batch 4:  Loss:     1.5549 Accuracy: 0.445600\n",
      "Epoch  2, CIFAR-10 Batch 5:  Loss:     1.5547 Accuracy: 0.457800\n",
      "Epoch  3, CIFAR-10 Batch 1:  Loss:     1.5940 Accuracy: 0.478000\n",
      "Epoch  3, CIFAR-10 Batch 2:  Loss:     1.4245 Accuracy: 0.481600\n",
      "Epoch  3, CIFAR-10 Batch 3:  Loss:     1.2592 Accuracy: 0.458200\n",
      "Epoch  3, CIFAR-10 Batch 4:  Loss:     1.4710 Accuracy: 0.482600\n",
      "Epoch  3, CIFAR-10 Batch 5:  Loss:     1.2849 Accuracy: 0.496000\n",
      "Epoch  4, CIFAR-10 Batch 1:  Loss:     1.4321 Accuracy: 0.506600\n",
      "Epoch  4, CIFAR-10 Batch 2:  Loss:     1.2488 Accuracy: 0.506200\n",
      "Epoch  4, CIFAR-10 Batch 3:  Loss:     1.0761 Accuracy: 0.520400\n",
      "Epoch  4, CIFAR-10 Batch 4:  Loss:     1.2514 Accuracy: 0.529600\n",
      "Epoch  4, CIFAR-10 Batch 5:  Loss:     1.1303 Accuracy: 0.540000\n",
      "Epoch  5, CIFAR-10 Batch 1:  Loss:     1.2736 Accuracy: 0.545600\n",
      "Epoch  5, CIFAR-10 Batch 2:  Loss:     1.1737 Accuracy: 0.548000\n",
      "Epoch  5, CIFAR-10 Batch 3:  Loss:     1.0634 Accuracy: 0.534800\n",
      "Epoch  5, CIFAR-10 Batch 4:  Loss:     1.0466 Accuracy: 0.562800\n",
      "Epoch  5, CIFAR-10 Batch 5:  Loss:     1.0788 Accuracy: 0.563600\n",
      "Epoch  6, CIFAR-10 Batch 1:  Loss:     1.1202 Accuracy: 0.572800\n",
      "Epoch  6, CIFAR-10 Batch 2:  Loss:     1.0021 Accuracy: 0.572200\n",
      "Epoch  6, CIFAR-10 Batch 3:  Loss:     0.8679 Accuracy: 0.570000\n",
      "Epoch  6, CIFAR-10 Batch 4:  Loss:     0.9517 Accuracy: 0.583800\n",
      "Epoch  6, CIFAR-10 Batch 5:  Loss:     0.9364 Accuracy: 0.575800\n",
      "Epoch  7, CIFAR-10 Batch 1:  Loss:     0.9517 Accuracy: 0.590800\n",
      "Epoch  7, CIFAR-10 Batch 2:  Loss:     0.8984 Accuracy: 0.607800\n",
      "Epoch  7, CIFAR-10 Batch 3:  Loss:     0.7380 Accuracy: 0.601400\n",
      "Epoch  7, CIFAR-10 Batch 4:  Loss:     0.8398 Accuracy: 0.597400\n",
      "Epoch  7, CIFAR-10 Batch 5:  Loss:     0.8214 Accuracy: 0.612400\n",
      "Epoch  8, CIFAR-10 Batch 1:  Loss:     0.8686 Accuracy: 0.609000\n",
      "Epoch  8, CIFAR-10 Batch 2:  Loss:     0.7808 Accuracy: 0.605200\n",
      "Epoch  8, CIFAR-10 Batch 3:  Loss:     0.6686 Accuracy: 0.598800\n",
      "Epoch  8, CIFAR-10 Batch 4:  Loss:     0.7311 Accuracy: 0.621000\n",
      "Epoch  8, CIFAR-10 Batch 5:  Loss:     0.6811 Accuracy: 0.625000\n",
      "Epoch  9, CIFAR-10 Batch 1:  Loss:     0.8263 Accuracy: 0.611600\n",
      "Epoch  9, CIFAR-10 Batch 2:  Loss:     0.6591 Accuracy: 0.641600\n",
      "Epoch  9, CIFAR-10 Batch 3:  Loss:     0.4953 Accuracy: 0.640600\n",
      "Epoch  9, CIFAR-10 Batch 4:  Loss:     0.6602 Accuracy: 0.643200\n",
      "Epoch  9, CIFAR-10 Batch 5:  Loss:     0.5908 Accuracy: 0.639000\n",
      "Epoch 10, CIFAR-10 Batch 1:  Loss:     0.6498 Accuracy: 0.630800\n",
      "Epoch 10, CIFAR-10 Batch 2:  Loss:     0.5785 Accuracy: 0.636000\n",
      "Epoch 10, CIFAR-10 Batch 3:  Loss:     0.4838 Accuracy: 0.648200\n",
      "Epoch 10, CIFAR-10 Batch 4:  Loss:     0.5793 Accuracy: 0.651000\n",
      "Epoch 10, CIFAR-10 Batch 5:  Loss:     0.4772 Accuracy: 0.653000\n",
      "Epoch 11, CIFAR-10 Batch 1:  Loss:     0.5578 Accuracy: 0.655200\n",
      "Epoch 11, CIFAR-10 Batch 2:  Loss:     0.4616 Accuracy: 0.654200\n",
      "Epoch 11, CIFAR-10 Batch 3:  Loss:     0.3734 Accuracy: 0.661800\n",
      "Epoch 11, CIFAR-10 Batch 4:  Loss:     0.4855 Accuracy: 0.667400\n",
      "Epoch 11, CIFAR-10 Batch 5:  Loss:     0.4140 Accuracy: 0.662000\n",
      "Epoch 12, CIFAR-10 Batch 1:  Loss:     0.5133 Accuracy: 0.667800\n",
      "Epoch 12, CIFAR-10 Batch 2:  Loss:     0.3986 Accuracy: 0.669000\n",
      "Epoch 12, CIFAR-10 Batch 3:  Loss:     0.3520 Accuracy: 0.668200\n",
      "Epoch 12, CIFAR-10 Batch 4:  Loss:     0.4597 Accuracy: 0.671400\n",
      "Epoch 12, CIFAR-10 Batch 5:  Loss:     0.3436 Accuracy: 0.681200\n",
      "Epoch 13, CIFAR-10 Batch 1:  Loss:     0.4249 Accuracy: 0.674000\n",
      "Epoch 13, CIFAR-10 Batch 2:  Loss:     0.3574 Accuracy: 0.674800\n",
      "Epoch 13, CIFAR-10 Batch 3:  Loss:     0.2538 Accuracy: 0.673200\n",
      "Epoch 13, CIFAR-10 Batch 4:  Loss:     0.3554 Accuracy: 0.685800\n",
      "Epoch 13, CIFAR-10 Batch 5:  Loss:     0.3219 Accuracy: 0.684600\n",
      "Epoch 14, CIFAR-10 Batch 1:  Loss:     0.4009 Accuracy: 0.692600\n",
      "Epoch 14, CIFAR-10 Batch 2:  Loss:     0.3146 Accuracy: 0.683200\n",
      "Epoch 14, CIFAR-10 Batch 3:  Loss:     0.2293 Accuracy: 0.677400\n",
      "Epoch 14, CIFAR-10 Batch 4:  Loss:     0.3179 Accuracy: 0.689600\n",
      "Epoch 14, CIFAR-10 Batch 5:  Loss:     0.2919 Accuracy: 0.674800\n",
      "Epoch 15, CIFAR-10 Batch 1:  Loss:     0.3091 Accuracy: 0.698000\n",
      "Epoch 15, CIFAR-10 Batch 2:  Loss:     0.2681 Accuracy: 0.673400\n",
      "Epoch 15, CIFAR-10 Batch 3:  Loss:     0.1936 Accuracy: 0.683200\n",
      "Epoch 15, CIFAR-10 Batch 4:  Loss:     0.2412 Accuracy: 0.701200\n",
      "Epoch 15, CIFAR-10 Batch 5:  Loss:     0.2496 Accuracy: 0.690800\n",
      "Epoch 16, CIFAR-10 Batch 1:  Loss:     0.2869 Accuracy: 0.688800\n",
      "Epoch 16, CIFAR-10 Batch 2:  Loss:     0.2041 Accuracy: 0.694400\n",
      "Epoch 16, CIFAR-10 Batch 3:  Loss:     0.1772 Accuracy: 0.702000\n",
      "Epoch 16, CIFAR-10 Batch 4:  Loss:     0.2574 Accuracy: 0.694200\n",
      "Epoch 16, CIFAR-10 Batch 5:  Loss:     0.2058 Accuracy: 0.704600\n",
      "Epoch 17, CIFAR-10 Batch 1:  Loss:     0.2349 Accuracy: 0.701600\n",
      "Epoch 17, CIFAR-10 Batch 2:  Loss:     0.1935 Accuracy: 0.697800\n",
      "Epoch 17, CIFAR-10 Batch 3:  Loss:     0.1493 Accuracy: 0.706600\n",
      "Epoch 17, CIFAR-10 Batch 4:  Loss:     0.2038 Accuracy: 0.705200\n",
      "Epoch 17, CIFAR-10 Batch 5:  Loss:     0.1831 Accuracy: 0.702800\n",
      "Epoch 18, CIFAR-10 Batch 1:  Loss:     0.2302 Accuracy: 0.708400\n",
      "Epoch 18, CIFAR-10 Batch 2:  Loss:     0.1652 Accuracy: 0.709000\n",
      "Epoch 18, CIFAR-10 Batch 3:  Loss:     0.1244 Accuracy: 0.700400\n",
      "Epoch 18, CIFAR-10 Batch 4:  Loss:     0.1591 Accuracy: 0.717200\n",
      "Epoch 18, CIFAR-10 Batch 5:  Loss:     0.1532 Accuracy: 0.702400\n",
      "Epoch 19, CIFAR-10 Batch 1:  Loss:     0.2029 Accuracy: 0.704800\n",
      "Epoch 19, CIFAR-10 Batch 2:  Loss:     0.1323 Accuracy: 0.714800\n",
      "Epoch 19, CIFAR-10 Batch 3:  Loss:     0.1287 Accuracy: 0.703200\n",
      "Epoch 19, CIFAR-10 Batch 4:  Loss:     0.1374 Accuracy: 0.721400\n",
      "Epoch 19, CIFAR-10 Batch 5:  Loss:     0.1770 Accuracy: 0.705000\n",
      "Epoch 20, CIFAR-10 Batch 1:  Loss:     0.2165 Accuracy: 0.709200\n",
      "Epoch 20, CIFAR-10 Batch 2:  Loss:     0.1312 Accuracy: 0.707800\n",
      "Epoch 20, CIFAR-10 Batch 3:  Loss:     0.0908 Accuracy: 0.713200\n",
      "Epoch 20, CIFAR-10 Batch 4:  Loss:     0.1485 Accuracy: 0.708800\n",
      "Epoch 20, CIFAR-10 Batch 5:  Loss:     0.1304 Accuracy: 0.704800\n",
      "Epoch 21, CIFAR-10 Batch 1:  Loss:     0.1298 Accuracy: 0.717000\n",
      "Epoch 21, CIFAR-10 Batch 2:  Loss:     0.1271 Accuracy: 0.721600\n",
      "Epoch 21, CIFAR-10 Batch 3:  Loss:     0.0843 Accuracy: 0.719200\n",
      "Epoch 21, CIFAR-10 Batch 4:  Loss:     0.1012 Accuracy: 0.722400\n",
      "Epoch 21, CIFAR-10 Batch 5:  Loss:     0.0958 Accuracy: 0.716000\n",
      "Epoch 22, CIFAR-10 Batch 1:  Loss:     0.0971 Accuracy: 0.724800\n",
      "Epoch 22, CIFAR-10 Batch 2:  Loss:     0.0892 Accuracy: 0.718800\n",
      "Epoch 22, CIFAR-10 Batch 3:  Loss:     0.0850 Accuracy: 0.706400\n",
      "Epoch 22, CIFAR-10 Batch 4:  Loss:     0.0817 Accuracy: 0.722800\n",
      "Epoch 22, CIFAR-10 Batch 5:  Loss:     0.0946 Accuracy: 0.714400\n",
      "Epoch 23, CIFAR-10 Batch 1:  Loss:     0.0790 Accuracy: 0.717200\n",
      "Epoch 23, CIFAR-10 Batch 2:  Loss:     0.0671 Accuracy: 0.720800\n",
      "Epoch 23, CIFAR-10 Batch 3:  Loss:     0.0736 Accuracy: 0.715000\n",
      "Epoch 23, CIFAR-10 Batch 4:  Loss:     0.0662 Accuracy: 0.721000\n",
      "Epoch 23, CIFAR-10 Batch 5:  Loss:     0.0948 Accuracy: 0.710000\n",
      "Epoch 24, CIFAR-10 Batch 1:  Loss:     0.0720 Accuracy: 0.732000\n",
      "Epoch 24, CIFAR-10 Batch 2:  Loss:     0.0668 Accuracy: 0.722200\n",
      "Epoch 24, CIFAR-10 Batch 3:  Loss:     0.0807 Accuracy: 0.706000\n",
      "Epoch 24, CIFAR-10 Batch 4:  Loss:     0.0616 Accuracy: 0.726200\n",
      "Epoch 24, CIFAR-10 Batch 5:  Loss:     0.0547 Accuracy: 0.729600\n",
      "Epoch 25, CIFAR-10 Batch 1:  Loss:     0.0663 Accuracy: 0.730000\n",
      "Epoch 25, CIFAR-10 Batch 2:  Loss:     0.0532 Accuracy: 0.726200\n",
      "Epoch 25, CIFAR-10 Batch 3:  Loss:     0.0805 Accuracy: 0.707400\n",
      "Epoch 25, CIFAR-10 Batch 4:  Loss:     0.0564 Accuracy: 0.726200\n",
      "Epoch 25, CIFAR-10 Batch 5:  Loss:     0.0625 Accuracy: 0.729400\n",
      "Epoch 26, CIFAR-10 Batch 1:  Loss:     0.0530 Accuracy: 0.737200\n",
      "Epoch 26, CIFAR-10 Batch 2:  Loss:     0.0742 Accuracy: 0.709200\n",
      "Epoch 26, CIFAR-10 Batch 3:  Loss:     0.0531 Accuracy: 0.729600\n",
      "Epoch 26, CIFAR-10 Batch 4:  Loss:     0.0476 Accuracy: 0.727600\n",
      "Epoch 26, CIFAR-10 Batch 5:  Loss:     0.0576 Accuracy: 0.723200\n",
      "Epoch 27, CIFAR-10 Batch 1:  Loss:     0.0593 Accuracy: 0.725200\n",
      "Epoch 27, CIFAR-10 Batch 2:  Loss:     0.0421 Accuracy: 0.722800\n",
      "Epoch 27, CIFAR-10 Batch 3:  Loss:     0.0458 Accuracy: 0.727200\n",
      "Epoch 27, CIFAR-10 Batch 4:  Loss:     0.0407 Accuracy: 0.725600\n",
      "Epoch 27, CIFAR-10 Batch 5:  Loss:     0.0447 Accuracy: 0.727800\n",
      "Epoch 28, CIFAR-10 Batch 1:  Loss:     0.0323 Accuracy: 0.738800\n",
      "Epoch 28, CIFAR-10 Batch 2:  Loss:     0.0304 Accuracy: 0.723000\n",
      "Epoch 28, CIFAR-10 Batch 3:  Loss:     0.0335 Accuracy: 0.731400\n",
      "Epoch 28, CIFAR-10 Batch 4:  Loss:     0.0256 Accuracy: 0.734400\n",
      "Epoch 28, CIFAR-10 Batch 5:  Loss:     0.0436 Accuracy: 0.726600\n",
      "Epoch 29, CIFAR-10 Batch 1:  Loss:     0.0327 Accuracy: 0.733800\n",
      "Epoch 29, CIFAR-10 Batch 2:  Loss:     0.0287 Accuracy: 0.724800\n",
      "Epoch 29, CIFAR-10 Batch 3:  Loss:     0.0392 Accuracy: 0.714800\n",
      "Epoch 29, CIFAR-10 Batch 4:  Loss:     0.0310 Accuracy: 0.728200\n",
      "Epoch 29, CIFAR-10 Batch 5:  Loss:     0.0457 Accuracy: 0.737400\n",
      "Epoch 30, CIFAR-10 Batch 1:  Loss:     0.0267 Accuracy: 0.731200\n",
      "Epoch 30, CIFAR-10 Batch 2:  Loss:     0.0243 Accuracy: 0.725800\n",
      "Epoch 30, CIFAR-10 Batch 3:  Loss:     0.0284 Accuracy: 0.724200\n",
      "Epoch 30, CIFAR-10 Batch 4:  Loss:     0.0151 Accuracy: 0.730600\n",
      "Epoch 30, CIFAR-10 Batch 5:  Loss:     0.0240 Accuracy: 0.730600\n",
      "Epoch 31, CIFAR-10 Batch 1:  Loss:     0.0225 Accuracy: 0.741000\n",
      "Epoch 31, CIFAR-10 Batch 2:  Loss:     0.0225 Accuracy: 0.723600\n",
      "Epoch 31, CIFAR-10 Batch 3:  Loss:     0.0250 Accuracy: 0.726000\n",
      "Epoch 31, CIFAR-10 Batch 4:  Loss:     0.0185 Accuracy: 0.737800\n",
      "Epoch 31, CIFAR-10 Batch 5:  Loss:     0.0210 Accuracy: 0.731800\n",
      "Epoch 32, CIFAR-10 Batch 1:  Loss:     0.0237 Accuracy: 0.733800\n",
      "Epoch 32, CIFAR-10 Batch 2:  Loss:     0.0267 Accuracy: 0.721600\n",
      "Epoch 32, CIFAR-10 Batch 3:  Loss:     0.0291 Accuracy: 0.723600\n",
      "Epoch 32, CIFAR-10 Batch 4:  Loss:     0.0295 Accuracy: 0.735200\n",
      "Epoch 32, CIFAR-10 Batch 5:  Loss:     0.0222 Accuracy: 0.717200\n",
      "Epoch 33, CIFAR-10 Batch 1:  Loss:     0.0253 Accuracy: 0.734800\n",
      "Epoch 33, CIFAR-10 Batch 2:  Loss:     0.0183 Accuracy: 0.726600\n",
      "Epoch 33, CIFAR-10 Batch 3:  Loss:     0.0201 Accuracy: 0.717600\n",
      "Epoch 33, CIFAR-10 Batch 4:  Loss:     0.0169 Accuracy: 0.738200\n",
      "Epoch 33, CIFAR-10 Batch 5:  Loss:     0.0134 Accuracy: 0.733400\n",
      "Epoch 34, CIFAR-10 Batch 1:  Loss:     0.0184 Accuracy: 0.734000\n",
      "Epoch 34, CIFAR-10 Batch 2:  Loss:     0.0168 Accuracy: 0.731200\n",
      "Epoch 34, CIFAR-10 Batch 3:  Loss:     0.0159 Accuracy: 0.722400\n",
      "Epoch 34, CIFAR-10 Batch 4:  Loss:     0.0187 Accuracy: 0.732600\n",
      "Epoch 34, CIFAR-10 Batch 5:  Loss:     0.0175 Accuracy: 0.736200\n",
      "Epoch 35, CIFAR-10 Batch 1:  Loss:     0.0095 Accuracy: 0.745400\n",
      "Epoch 35, CIFAR-10 Batch 2:  Loss:     0.0145 Accuracy: 0.735000\n",
      "Epoch 35, CIFAR-10 Batch 3:  Loss:     0.0149 Accuracy: 0.718400\n",
      "Epoch 35, CIFAR-10 Batch 4:  Loss:     0.0130 Accuracy: 0.737400\n",
      "Epoch 35, CIFAR-10 Batch 5:  Loss:     0.0264 Accuracy: 0.719200\n",
      "Epoch 36, CIFAR-10 Batch 1:  Loss:     0.0120 Accuracy: 0.734000\n",
      "Epoch 36, CIFAR-10 Batch 2:  Loss:     0.0116 Accuracy: 0.733800\n",
      "Epoch 36, CIFAR-10 Batch 3:  Loss:     0.0103 Accuracy: 0.740800\n",
      "Epoch 36, CIFAR-10 Batch 4:  Loss:     0.0157 Accuracy: 0.738600\n",
      "Epoch 36, CIFAR-10 Batch 5:  Loss:     0.0149 Accuracy: 0.732200\n",
      "Epoch 37, CIFAR-10 Batch 1:  Loss:     0.0319 Accuracy: 0.742200\n",
      "Epoch 37, CIFAR-10 Batch 2:  Loss:     0.0167 Accuracy: 0.742600\n",
      "Epoch 37, CIFAR-10 Batch 3:  Loss:     0.0121 Accuracy: 0.736200\n",
      "Epoch 37, CIFAR-10 Batch 4:  Loss:     0.0113 Accuracy: 0.739400\n",
      "Epoch 37, CIFAR-10 Batch 5:  Loss:     0.0161 Accuracy: 0.734400\n",
      "Epoch 38, CIFAR-10 Batch 1:  Loss:     0.0140 Accuracy: 0.742000\n",
      "Epoch 38, CIFAR-10 Batch 2:  Loss:     0.0112 Accuracy: 0.735200\n",
      "Epoch 38, CIFAR-10 Batch 3:  Loss:     0.0068 Accuracy: 0.743200\n",
      "Epoch 38, CIFAR-10 Batch 4:  Loss:     0.0066 Accuracy: 0.726800\n",
      "Epoch 38, CIFAR-10 Batch 5:  Loss:     0.0094 Accuracy: 0.736600\n",
      "Epoch 39, CIFAR-10 Batch 1:  Loss:     0.0247 Accuracy: 0.735600\n",
      "Epoch 39, CIFAR-10 Batch 2:  Loss:     0.0114 Accuracy: 0.733000\n",
      "Epoch 39, CIFAR-10 Batch 3:  Loss:     0.0061 Accuracy: 0.740400\n",
      "Epoch 39, CIFAR-10 Batch 4:  Loss:     0.0093 Accuracy: 0.740800\n",
      "Epoch 39, CIFAR-10 Batch 5:  Loss:     0.0148 Accuracy: 0.733800\n",
      "Epoch 40, CIFAR-10 Batch 1:  Loss:     0.0080 Accuracy: 0.740200\n",
      "Epoch 40, CIFAR-10 Batch 2:  Loss:     0.0103 Accuracy: 0.730200\n",
      "Epoch 40, CIFAR-10 Batch 3:  Loss:     0.0050 Accuracy: 0.733800\n",
      "Epoch 40, CIFAR-10 Batch 4:  Loss:     0.0080 Accuracy: 0.752000\n",
      "Epoch 40, CIFAR-10 Batch 5:  Loss:     0.0070 Accuracy: 0.737600\n",
      "Epoch 41, CIFAR-10 Batch 1:  Loss:     0.0084 Accuracy: 0.740000\n",
      "Epoch 41, CIFAR-10 Batch 2:  Loss:     0.0084 Accuracy: 0.735000\n",
      "Epoch 41, CIFAR-10 Batch 3:  Loss:     0.0044 Accuracy: 0.737200\n",
      "Epoch 41, CIFAR-10 Batch 4:  Loss:     0.0085 Accuracy: 0.729400\n",
      "Epoch 41, CIFAR-10 Batch 5:  Loss:     0.0111 Accuracy: 0.729600\n",
      "Epoch 42, CIFAR-10 Batch 1:  Loss:     0.0052 Accuracy: 0.743800\n",
      "Epoch 42, CIFAR-10 Batch 2:  Loss:     0.0060 Accuracy: 0.737600\n",
      "Epoch 42, CIFAR-10 Batch 3:  Loss:     0.0060 Accuracy: 0.735000\n",
      "Epoch 42, CIFAR-10 Batch 4:  Loss:     0.0047 Accuracy: 0.737400\n",
      "Epoch 42, CIFAR-10 Batch 5:  Loss:     0.0070 Accuracy: 0.734600\n",
      "Epoch 43, CIFAR-10 Batch 1:  Loss:     0.0072 Accuracy: 0.746400\n",
      "Epoch 43, CIFAR-10 Batch 2:  Loss:     0.0059 Accuracy: 0.744800\n",
      "Epoch 43, CIFAR-10 Batch 3:  Loss:     0.0069 Accuracy: 0.735000\n",
      "Epoch 43, CIFAR-10 Batch 4:  Loss:     0.0062 Accuracy: 0.731600\n",
      "Epoch 43, CIFAR-10 Batch 5:  Loss:     0.0101 Accuracy: 0.730800\n",
      "Epoch 44, CIFAR-10 Batch 1:  Loss:     0.0065 Accuracy: 0.743000\n",
      "Epoch 44, CIFAR-10 Batch 2:  Loss:     0.0074 Accuracy: 0.731200\n",
      "Epoch 44, CIFAR-10 Batch 3:  Loss:     0.0024 Accuracy: 0.729600\n",
      "Epoch 44, CIFAR-10 Batch 4:  Loss:     0.0048 Accuracy: 0.742600\n",
      "Epoch 44, CIFAR-10 Batch 5:  Loss:     0.0051 Accuracy: 0.742600\n",
      "Epoch 45, CIFAR-10 Batch 1:  Loss:     0.0072 Accuracy: 0.747800\n",
      "Epoch 45, CIFAR-10 Batch 2:  Loss:     0.0059 Accuracy: 0.739000\n",
      "Epoch 45, CIFAR-10 Batch 3:  Loss:     0.0045 Accuracy: 0.718200\n",
      "Epoch 45, CIFAR-10 Batch 4:  Loss:     0.0055 Accuracy: 0.743000\n",
      "Epoch 45, CIFAR-10 Batch 5:  Loss:     0.0036 Accuracy: 0.747000\n",
      "Epoch 46, CIFAR-10 Batch 1:  Loss:     0.0021 Accuracy: 0.745600\n",
      "Epoch 46, CIFAR-10 Batch 2:  Loss:     0.0102 Accuracy: 0.741800\n",
      "Epoch 46, CIFAR-10 Batch 3:  Loss:     0.0033 Accuracy: 0.735800\n",
      "Epoch 46, CIFAR-10 Batch 4:  Loss:     0.0053 Accuracy: 0.735400\n",
      "Epoch 46, CIFAR-10 Batch 5:  Loss:     0.0075 Accuracy: 0.743200\n",
      "Epoch 47, CIFAR-10 Batch 1:  Loss:     0.0050 Accuracy: 0.744400\n",
      "Epoch 47, CIFAR-10 Batch 2:  Loss:     0.0044 Accuracy: 0.735000\n",
      "Epoch 47, CIFAR-10 Batch 3:  Loss:     0.0028 Accuracy: 0.735200\n",
      "Epoch 47, CIFAR-10 Batch 4:  Loss:     0.0041 Accuracy: 0.730400\n",
      "Epoch 47, CIFAR-10 Batch 5:  Loss:     0.0077 Accuracy: 0.742200\n",
      "Epoch 48, CIFAR-10 Batch 1:  Loss:     0.0022 Accuracy: 0.735000\n",
      "Epoch 48, CIFAR-10 Batch 2:  Loss:     0.0035 Accuracy: 0.740000\n",
      "Epoch 48, CIFAR-10 Batch 3:  Loss:     0.0012 Accuracy: 0.744400\n",
      "Epoch 48, CIFAR-10 Batch 4:  Loss:     0.0029 Accuracy: 0.733600\n",
      "Epoch 48, CIFAR-10 Batch 5:  Loss:     0.0076 Accuracy: 0.742200\n",
      "Epoch 49, CIFAR-10 Batch 1:  Loss:     0.0031 Accuracy: 0.744000\n",
      "Epoch 49, CIFAR-10 Batch 2:  Loss:     0.0025 Accuracy: 0.746200\n",
      "Epoch 49, CIFAR-10 Batch 3:  Loss:     0.0014 Accuracy: 0.743400\n",
      "Epoch 49, CIFAR-10 Batch 4:  Loss:     0.0052 Accuracy: 0.738200\n",
      "Epoch 49, CIFAR-10 Batch 5:  Loss:     0.0088 Accuracy: 0.732400\n",
      "Epoch 50, CIFAR-10 Batch 1:  Loss:     0.0032 Accuracy: 0.732400\n",
      "Epoch 50, CIFAR-10 Batch 2:  Loss:     0.0034 Accuracy: 0.730800\n",
      "Epoch 50, CIFAR-10 Batch 3:  Loss:     0.0026 Accuracy: 0.717200\n",
      "Epoch 50, CIFAR-10 Batch 4:  Loss:     0.0022 Accuracy: 0.742200\n",
      "Epoch 50, CIFAR-10 Batch 5:  Loss:     0.0018 Accuracy: 0.742000\n",
      "Epoch 51, CIFAR-10 Batch 1:  Loss:     0.0032 Accuracy: 0.743600\n",
      "Epoch 51, CIFAR-10 Batch 2:  Loss:     0.0040 Accuracy: 0.738200\n",
      "Epoch 51, CIFAR-10 Batch 3:  Loss:     0.0019 Accuracy: 0.733800\n",
      "Epoch 51, CIFAR-10 Batch 4:  Loss:     0.0023 Accuracy: 0.739400\n",
      "Epoch 51, CIFAR-10 Batch 5:  Loss:     0.0023 Accuracy: 0.743200\n",
      "Epoch 52, CIFAR-10 Batch 1:  Loss:     0.0015 Accuracy: 0.749000\n",
      "Epoch 52, CIFAR-10 Batch 2:  Loss:     0.0034 Accuracy: 0.734800\n",
      "Epoch 52, CIFAR-10 Batch 3:  Loss:     0.0015 Accuracy: 0.729600\n",
      "Epoch 52, CIFAR-10 Batch 4:  Loss:     0.0030 Accuracy: 0.734400\n",
      "Epoch 52, CIFAR-10 Batch 5:  Loss:     0.0047 Accuracy: 0.739800\n",
      "Epoch 53, CIFAR-10 Batch 1:  Loss:     0.0034 Accuracy: 0.741400\n",
      "Epoch 53, CIFAR-10 Batch 2:  Loss:     0.0026 Accuracy: 0.738800\n",
      "Epoch 53, CIFAR-10 Batch 3:  Loss:     0.0015 Accuracy: 0.736400\n",
      "Epoch 53, CIFAR-10 Batch 4:  Loss:     0.0038 Accuracy: 0.725600\n",
      "Epoch 53, CIFAR-10 Batch 5:  Loss:     0.0041 Accuracy: 0.744000\n",
      "Epoch 54, CIFAR-10 Batch 1:  Loss:     0.0021 Accuracy: 0.736600\n",
      "Epoch 54, CIFAR-10 Batch 2:  Loss:     0.0025 Accuracy: 0.746600\n",
      "Epoch 54, CIFAR-10 Batch 3:  Loss:     0.0005 Accuracy: 0.738600\n",
      "Epoch 54, CIFAR-10 Batch 4:  Loss:     0.0014 Accuracy: 0.734600\n",
      "Epoch 54, CIFAR-10 Batch 5:  Loss:     0.0017 Accuracy: 0.740400\n",
      "Epoch 55, CIFAR-10 Batch 1:  Loss:     0.0051 Accuracy: 0.740200\n",
      "Epoch 55, CIFAR-10 Batch 2:  Loss:     0.0008 Accuracy: 0.739200\n",
      "Epoch 55, CIFAR-10 Batch 3:  Loss:     0.0008 Accuracy: 0.732800\n",
      "Epoch 55, CIFAR-10 Batch 4:  Loss:     0.0016 Accuracy: 0.734200\n",
      "Epoch 55, CIFAR-10 Batch 5:  Loss:     0.0028 Accuracy: 0.745600\n",
      "Epoch 56, CIFAR-10 Batch 1:  Loss:     0.0018 Accuracy: 0.734600\n",
      "Epoch 56, CIFAR-10 Batch 2:  Loss:     0.0017 Accuracy: 0.744000\n",
      "Epoch 56, CIFAR-10 Batch 3:  Loss:     0.0005 Accuracy: 0.731800\n",
      "Epoch 56, CIFAR-10 Batch 4:  Loss:     0.0017 Accuracy: 0.731400\n",
      "Epoch 56, CIFAR-10 Batch 5:  Loss:     0.0024 Accuracy: 0.738600\n",
      "Epoch 57, CIFAR-10 Batch 1:  Loss:     0.0011 Accuracy: 0.738400\n",
      "Epoch 57, CIFAR-10 Batch 2:  Loss:     0.0017 Accuracy: 0.741000\n",
      "Epoch 57, CIFAR-10 Batch 3:  Loss:     0.0005 Accuracy: 0.735800\n",
      "Epoch 57, CIFAR-10 Batch 4:  Loss:     0.0011 Accuracy: 0.736200\n",
      "Epoch 57, CIFAR-10 Batch 5:  Loss:     0.0036 Accuracy: 0.743200\n",
      "Epoch 58, CIFAR-10 Batch 1:  Loss:     0.0016 Accuracy: 0.732600\n",
      "Epoch 58, CIFAR-10 Batch 2:  Loss:     0.0024 Accuracy: 0.739800\n",
      "Epoch 58, CIFAR-10 Batch 3:  Loss:     0.0006 Accuracy: 0.741000\n",
      "Epoch 58, CIFAR-10 Batch 4:  Loss:     0.0017 Accuracy: 0.730600\n",
      "Epoch 58, CIFAR-10 Batch 5:  Loss:     0.0015 Accuracy: 0.743400\n",
      "Epoch 59, CIFAR-10 Batch 1:  Loss:     0.0012 Accuracy: 0.744000\n",
      "Epoch 59, CIFAR-10 Batch 2:  Loss:     0.0012 Accuracy: 0.742400\n",
      "Epoch 59, CIFAR-10 Batch 3:  Loss:     0.0008 Accuracy: 0.741800\n",
      "Epoch 59, CIFAR-10 Batch 4:  Loss:     0.0007 Accuracy: 0.743400\n",
      "Epoch 59, CIFAR-10 Batch 5:  Loss:     0.0021 Accuracy: 0.745400\n",
      "Epoch 60, CIFAR-10 Batch 1:  Loss:     0.0037 Accuracy: 0.736600\n",
      "Epoch 60, CIFAR-10 Batch 2:  Loss:     0.0009 Accuracy: 0.745200\n",
      "Epoch 60, CIFAR-10 Batch 3:  Loss:     0.0008 Accuracy: 0.730800\n",
      "Epoch 60, CIFAR-10 Batch 4:  Loss:     0.0005 Accuracy: 0.741200\n",
      "Epoch 60, CIFAR-10 Batch 5:  Loss:     0.0016 Accuracy: 0.733000\n",
      "Epoch 61, CIFAR-10 Batch 1:  Loss:     0.0102 Accuracy: 0.737200\n",
      "Epoch 61, CIFAR-10 Batch 2:  Loss:     0.0010 Accuracy: 0.744600\n",
      "Epoch 61, CIFAR-10 Batch 3:  Loss:     0.0002 Accuracy: 0.738400\n",
      "Epoch 61, CIFAR-10 Batch 4:  Loss:     0.0004 Accuracy: 0.739800\n",
      "Epoch 61, CIFAR-10 Batch 5:  Loss:     0.0012 Accuracy: 0.746600\n",
      "Epoch 62, CIFAR-10 Batch 1:  Loss:     0.0009 Accuracy: 0.741000\n",
      "Epoch 62, CIFAR-10 Batch 2:  Loss:     0.0005 Accuracy: 0.745600\n",
      "Epoch 62, CIFAR-10 Batch 3:  Loss:     0.0005 Accuracy: 0.743000\n",
      "Epoch 62, CIFAR-10 Batch 4:  Loss:     0.0012 Accuracy: 0.744400\n",
      "Epoch 62, CIFAR-10 Batch 5:  Loss:     0.0006 Accuracy: 0.743800\n",
      "Epoch 63, CIFAR-10 Batch 1:  Loss:     0.0013 Accuracy: 0.750000\n",
      "Epoch 63, CIFAR-10 Batch 2:  Loss:     0.0006 Accuracy: 0.741600\n",
      "Epoch 63, CIFAR-10 Batch 3:  Loss:     0.0007 Accuracy: 0.739800\n",
      "Epoch 63, CIFAR-10 Batch 4:  Loss:     0.0006 Accuracy: 0.737800\n",
      "Epoch 63, CIFAR-10 Batch 5:  Loss:     0.0028 Accuracy: 0.738400\n",
      "Epoch 64, CIFAR-10 Batch 1:  Loss:     0.0009 Accuracy: 0.736600\n",
      "Epoch 64, CIFAR-10 Batch 2:  Loss:     0.0011 Accuracy: 0.743200\n",
      "Epoch 64, CIFAR-10 Batch 3:  Loss:     0.0004 Accuracy: 0.736600\n",
      "Epoch 64, CIFAR-10 Batch 4:  Loss:     0.0004 Accuracy: 0.746400\n",
      "Epoch 64, CIFAR-10 Batch 5:  Loss:     0.0024 Accuracy: 0.732600\n",
      "Epoch 65, CIFAR-10 Batch 1:  Loss:     0.0006 Accuracy: 0.746000\n",
      "Epoch 65, CIFAR-10 Batch 2:  Loss:     0.0005 Accuracy: 0.739800\n",
      "Epoch 65, CIFAR-10 Batch 3:  Loss:     0.0006 Accuracy: 0.745600\n",
      "Epoch 65, CIFAR-10 Batch 4:  Loss:     0.0006 Accuracy: 0.744000\n",
      "Epoch 65, CIFAR-10 Batch 5:  Loss:     0.0011 Accuracy: 0.738400\n",
      "Epoch 66, CIFAR-10 Batch 1:  Loss:     0.0020 Accuracy: 0.740000\n",
      "Epoch 66, CIFAR-10 Batch 2:  Loss:     0.0006 Accuracy: 0.732200\n",
      "Epoch 66, CIFAR-10 Batch 3:  Loss:     0.0006 Accuracy: 0.729600\n",
      "Epoch 66, CIFAR-10 Batch 4:  Loss:     0.0008 Accuracy: 0.746000\n",
      "Epoch 66, CIFAR-10 Batch 5:  Loss:     0.0007 Accuracy: 0.743000\n",
      "Epoch 67, CIFAR-10 Batch 1:  Loss:     0.0006 Accuracy: 0.750000\n",
      "Epoch 67, CIFAR-10 Batch 2:  Loss:     0.0005 Accuracy: 0.743800\n",
      "Epoch 67, CIFAR-10 Batch 3:  Loss:     0.0002 Accuracy: 0.734400\n",
      "Epoch 67, CIFAR-10 Batch 4:  Loss:     0.0008 Accuracy: 0.741200\n",
      "Epoch 67, CIFAR-10 Batch 5:  Loss:     0.0010 Accuracy: 0.735600\n",
      "Epoch 68, CIFAR-10 Batch 1:  Loss:     0.0003 Accuracy: 0.741600\n",
      "Epoch 68, CIFAR-10 Batch 2:  Loss:     0.0005 Accuracy: 0.740000\n",
      "Epoch 68, CIFAR-10 Batch 3:  Loss:     0.0006 Accuracy: 0.743000\n",
      "Epoch 68, CIFAR-10 Batch 4:  Loss:     0.0005 Accuracy: 0.745600\n",
      "Epoch 68, CIFAR-10 Batch 5:  Loss:     0.0004 Accuracy: 0.743000\n",
      "Epoch 69, CIFAR-10 Batch 1:  Loss:     0.0009 Accuracy: 0.743800\n",
      "Epoch 69, CIFAR-10 Batch 2:  Loss:     0.0031 Accuracy: 0.740800\n",
      "Epoch 69, CIFAR-10 Batch 3:  Loss:     0.0003 Accuracy: 0.744600\n",
      "Epoch 69, CIFAR-10 Batch 4:  Loss:     0.0004 Accuracy: 0.743200\n",
      "Epoch 69, CIFAR-10 Batch 5:  Loss:     0.0013 Accuracy: 0.741000\n",
      "Epoch 70, CIFAR-10 Batch 1:  Loss:     0.0008 Accuracy: 0.744800\n",
      "Epoch 70, CIFAR-10 Batch 2:  Loss:     0.0005 Accuracy: 0.749200\n",
      "Epoch 70, CIFAR-10 Batch 3:  Loss:     0.0003 Accuracy: 0.735400\n",
      "Epoch 70, CIFAR-10 Batch 4:  Loss:     0.0009 Accuracy: 0.747000\n",
      "Epoch 70, CIFAR-10 Batch 5:  Loss:     0.0005 Accuracy: 0.743000\n",
      "Epoch 71, CIFAR-10 Batch 1:  Loss:     0.0049 Accuracy: 0.743000\n",
      "Epoch 71, CIFAR-10 Batch 2:  Loss:     0.0005 Accuracy: 0.743600\n",
      "Epoch 71, CIFAR-10 Batch 3:  Loss:     0.0001 Accuracy: 0.726200\n",
      "Epoch 71, CIFAR-10 Batch 4:  Loss:     0.0008 Accuracy: 0.745400\n",
      "Epoch 71, CIFAR-10 Batch 5:  Loss:     0.0012 Accuracy: 0.742400\n",
      "Epoch 72, CIFAR-10 Batch 1:  Loss:     0.0010 Accuracy: 0.753000\n",
      "Epoch 72, CIFAR-10 Batch 2:  Loss:     0.0004 Accuracy: 0.750800\n",
      "Epoch 72, CIFAR-10 Batch 3:  Loss:     0.0003 Accuracy: 0.737400\n",
      "Epoch 72, CIFAR-10 Batch 4:  Loss:     0.0006 Accuracy: 0.744000\n",
      "Epoch 72, CIFAR-10 Batch 5:  Loss:     0.0005 Accuracy: 0.743200\n",
      "Epoch 73, CIFAR-10 Batch 1:  Loss:     0.0011 Accuracy: 0.751800\n",
      "Epoch 73, CIFAR-10 Batch 2:  Loss:     0.0003 Accuracy: 0.745400\n",
      "Epoch 73, CIFAR-10 Batch 3:  Loss:     0.0002 Accuracy: 0.744000\n",
      "Epoch 73, CIFAR-10 Batch 4:  Loss:     0.0005 Accuracy: 0.745200\n",
      "Epoch 73, CIFAR-10 Batch 5:  Loss:     0.0005 Accuracy: 0.739000\n",
      "Epoch 74, CIFAR-10 Batch 1:  Loss:     0.0003 Accuracy: 0.749000\n",
      "Epoch 74, CIFAR-10 Batch 2:  Loss:     0.0005 Accuracy: 0.740200\n",
      "Epoch 74, CIFAR-10 Batch 3:  Loss:     0.0002 Accuracy: 0.737200\n",
      "Epoch 74, CIFAR-10 Batch 4:  Loss:     0.0010 Accuracy: 0.744200\n",
      "Epoch 74, CIFAR-10 Batch 5:  Loss:     0.0005 Accuracy: 0.752200\n",
      "Epoch 75, CIFAR-10 Batch 1:  Loss:     0.0006 Accuracy: 0.748400\n",
      "Epoch 75, CIFAR-10 Batch 2:  Loss:     0.0003 Accuracy: 0.742000\n",
      "Epoch 75, CIFAR-10 Batch 3:  Loss:     0.0002 Accuracy: 0.743400\n",
      "Epoch 75, CIFAR-10 Batch 4:  Loss:     0.0002 Accuracy: 0.739000\n",
      "Epoch 75, CIFAR-10 Batch 5:  Loss:     0.0004 Accuracy: 0.739000\n"
     ]
    }
   ],
   "source": [
    "\"\"\"\n",
    "DON'T MODIFY ANYTHING IN THIS CELL\n",
    "\"\"\"\n",
    "save_model_path = './image_classification'\n",
    "\n",
    "print('Training...')\n",
    "with tf.Session() as sess:\n",
    "    # Initializing the variables\n",
    "    sess.run(tf.global_variables_initializer())\n",
    "    \n",
    "    # Training cycle\n",
    "    for epoch in range(epochs):\n",
    "        # Loop over all batches\n",
    "        n_batches = 5\n",
    "        for batch_i in range(1, n_batches + 1):\n",
    "            for batch_features, batch_labels in helper.load_preprocess_training_batch(batch_i, batch_size):\n",
    "                train_neural_network(sess, optimizer, keep_probability, batch_features, batch_labels)\n",
    "            print('Epoch {:>2}, CIFAR-10 Batch {}:  '.format(epoch + 1, batch_i), end='')\n",
    "            print_stats(sess, batch_features, batch_labels, cost, accuracy)\n",
    "            \n",
    "    # Save Model\n",
    "    saver = tf.train.Saver()\n",
    "    save_path = saver.save(sess, save_model_path)"
   ]
  },
  {
   "cell_type": "markdown",
   "metadata": {},
   "source": [
    "# Checkpoint\n",
    "The model has been saved to disk.\n",
    "## Test Model\n",
    "Test your model against the test dataset.  This will be your final accuracy. You should have an accuracy greater than 50%. If you don't, keep tweaking the model architecture and parameters."
   ]
  },
  {
   "cell_type": "code",
   "execution_count": 20,
   "metadata": {
    "collapsed": true
   },
   "outputs": [
    {
     "name": "stdout",
     "output_type": "stream",
     "text": [
      "Testing Accuracy: 0.73623046875\n",
      "\n"
     ]
    },
    {
     "data": {
      "image/png": "[encoded data removed]",
      "text/plain": [
       "<matplotlib.figure.Figure at 0x7fa5cb380f28>"
      ]
     },
     "metadata": {
      "image/png": {
       "height": 319,
       "width": 355
      }
     },
     "output_type": "display_data"
    }
   ],
   "source": [
    "\"\"\"\n",
    "DON'T MODIFY ANYTHING IN THIS CELL\n",
    "\"\"\"\n",
    "%matplotlib inline\n",
    "%config InlineBackend.figure_format = 'retina'\n",
    "\n",
    "import tensorflow as tf\n",
    "import pickle\n",
    "import helper\n",
    "import random\n",
    "\n",
    "# Set batch size if not already set\n",
    "try:\n",
    "    if batch_size:\n",
    "        pass\n",
    "except NameError:\n",
    "    batch_size = 64\n",
    "\n",
    "save_model_path = './image_classification_100'\n",
    "n_samples = 4\n",
    "top_n_predictions = 3\n",
    "\n",
    "def test_model():\n",
    "    \"\"\"\n",
    "    Test the saved model against the test dataset\n",
    "    \"\"\"\n",
    "\n",
    "    test_features, test_labels = pickle.load(open('preprocess_test_100.p', mode='rb'))\n",
    "    loaded_graph = tf.Graph()\n",
    "\n",
    "    with tf.Session(graph=loaded_graph) as sess:\n",
    "        # Load model\n",
    "        loader = tf.train.import_meta_graph(save_model_path + '.meta')\n",
    "        loader.restore(sess, save_model_path)\n",
    "\n",
    "        # Get Tensors from loaded model\n",
    "        loaded_x = loaded_graph.get_tensor_by_name('x:0')\n",
    "        loaded_y = loaded_graph.get_tensor_by_name('y:0')\n",
    "        loaded_keep_prob = loaded_graph.get_tensor_by_name('keep_prob:0')\n",
    "        loaded_logits = loaded_graph.get_tensor_by_name('logits:0')\n",
    "        loaded_acc = loaded_graph.get_tensor_by_name('accuracy:0')\n",
    "        \n",
    "        # Get accuracy in batches for memory limitations\n",
    "        test_batch_acc_total = 0\n",
    "        test_batch_count = 0\n",
    "        \n",
    "        for test_feature_batch, test_label_batch in helper.batch_features_labels(test_features, test_labels, batch_size):\n",
    "            test_batch_acc_total += sess.run(\n",
    "                loaded_acc,\n",
    "                feed_dict={loaded_x: test_feature_batch, loaded_y: test_label_batch, loaded_keep_prob: 1.0})\n",
    "            test_batch_count += 1\n",
    "\n",
    "        print('Testing Accuracy: {}\\n'.format(test_batch_acc_total/test_batch_count))\n",
    "\n",
    "        # Print Random Samples\n",
    "        random_test_features, random_test_labels = tuple(zip(*random.sample(list(zip(test_features, test_labels)), n_samples)))\n",
    "        random_test_predictions = sess.run(\n",
    "            tf.nn.top_k(tf.nn.softmax(loaded_logits), top_n_predictions),\n",
    "            feed_dict={loaded_x: random_test_features, loaded_y: random_test_labels, loaded_keep_prob: 1.0})\n",
    "        helper.display_image_predictions(random_test_features, random_test_labels, random_test_predictions)\n",
    "\n",
    "\n",
    "test_model()"
   ]
  },
  {
   "cell_type": "markdown",
   "metadata": {},
   "source": [
    "## Why 50-80% Accuracy?\n",
    "You might be wondering why you can't get an accuracy any higher. First things first, 50% isn't bad for a simple CNN.  Pure guessing would get you 10% accuracy. However, you might notice people are getting scores [well above 80%](http://rodrigob.github.io/are_we_there_yet/build/classification_datasets_results.html#43494641522d3130).  That's because we haven't taught you all there is to know about neural networks. We still need to cover a few more techniques.\n",
    "## Submitting This Project\n",
    "When submitting this project, make sure to run all the cells before saving the notebook.  Save the notebook file as \"dlnd_image_classification.ipynb\" and save it as a HTML file under \"File\" -> \"Download as\".  Include the \"helper.py\" and \"problem_unittests.py\" files in your submission."
   ]
  }
 ],
 "metadata": {
  "kernelspec": {
   "display_name": "Python 3",
   "language": "python",
   "name": "python3"
  },
  "language_info": {
   "codemirror_mode": {
    "name": "ipython",
    "version": 3
   },
   "file_extension": ".py",
   "mimetype": "text/x-python",
   "name": "python",
   "nbconvert_exporter": "python",
   "pygments_lexer": "ipython3",
   "version": "3.5.3"
  },
  "widgets": {
   "state": {},
   "version": "1.1.2"
  }
 },
 "nbformat": 4,
 "nbformat_minor": 1
}
